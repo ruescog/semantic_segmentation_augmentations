{
 "cells": [
  {
   "cell_type": "markdown",
   "id": "77ddae4a",
   "metadata": {},
   "source": [
    "# semantic_segmentation_augmentations\n",
    "> A library to apply some data augmentations in semantic segmentation problems."
   ]
  },
  {
   "cell_type": "markdown",
   "id": "8f83669d",
   "metadata": {},
   "source": [
    "Data augmentation is a regularisation technique that generates new training samples from the original dataset by applying colour or geometric transformations. Although this technique has been applied in other computer vision fields, such as image classification or object detection, the application of this technique in semantic segmentation is not yet widespread.\n",
    "\n",
    "This library groups some data augmentation techniques for semantic augmentation, such as CutOut or CutMix."
   ]
  },
  {
   "cell_type": "markdown",
   "id": "5119f7fa",
   "metadata": {},
   "source": [
    "# Install"
   ]
  },
  {
   "cell_type": "markdown",
   "id": "b44a2edd",
   "metadata": {},
   "source": [
    "To install the library, run:\n",
    "\n",
    "```sh\n",
    "pip install semantic_segmentation_augmentations\n",
    "```"
   ]
  },
  {
   "cell_type": "markdown",
   "id": "3b79e185",
   "metadata": {},
   "source": [
    "# How it works"
   ]
  },
  {
   "cell_type": "markdown",
   "id": "dc1d17d2",
   "metadata": {},
   "source": [
    "This data augmentation techniques are defined as `fastai` `callbacks`. Given this fact, you need to train your models using `fastai`'s API to use them.\n",
    "\n",
    "As these techniques modifies the input image changing some pixels regions for something else, those callbacks have been defined as the union of two subcomponents: the `HoleMakerTechnique`, that defines how to make the hole (how to select the region to replace) and the `HolesFilling`, that defines how to fill the region defined below (the way to fill the region gives the name to the technique used).\n",
    "\n",
    "The `HoleMakerTechnique` can be replaced in order to change the behavior of the selection of the region to replace. Doing so, you can use a CutOut technique that select the region randomly or based on the information bounded in that region.\n",
    "\n",
    "You can also define your custom techniques defining how to fill a hole. You just need to extend the `HolesFilling` class and define the `before_bacth` (remember: we are using `callbacks` from `fastai`) abstract method. You will have two methods to simplify the process: the `make_hole` function, that uses the selected `HoleMakerTechnique` to make the hole and returns two slices (the region boundaries) and the `fill_hole` function, that fills the hole with something."
   ]
  },
  {
   "cell_type": "markdown",
   "id": "fb8eb957",
   "metadata": {},
   "source": [
    "# How to use it"
   ]
  },
  {
   "cell_type": "markdown",
   "id": "fe207d29",
   "metadata": {},
   "source": [
    "In order to use these techniques, you just need to define the `Learner` from `fastai` with the `Callbacks` that represents the techniques that you want to use.\n",
    "\n",
    "For example, if you want to create an `U-net` `Leaner` with `resnet18` backbone and use the CutOut technique with `HoleMakerRandom` as region selection techinique (which is the default one), you just need to to add to your learner:\n",
    "\n",
    "```sh\n",
    "learner = unet_learner(dls, resnet18, cbs = CutOutRandom(hole_maker = HoleMakerRandom()))\n",
    "```\n",
    "\n",
    "In the next sections we explain all the details of those components."
   ]
  }
 ],
 "metadata": {
  "kernelspec": {
   "display_name": "Python 3 (ipykernel)",
   "language": "python",
   "name": "python3"
  },
  "language_info": {
   "codemirror_mode": {
    "name": "ipython",
    "version": 3
   },
   "file_extension": ".py",
   "mimetype": "text/x-python",
   "name": "python",
   "nbconvert_exporter": "python",
   "pygments_lexer": "ipython3",
   "version": "3.8.13"
  }
 },
 "nbformat": 4,
 "nbformat_minor": 5
}
