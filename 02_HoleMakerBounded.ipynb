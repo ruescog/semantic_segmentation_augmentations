{
 "cells": [
  {
   "cell_type": "markdown",
   "id": "ef5a0699",
   "metadata": {},
   "source": [
    "# HoleMakerBounded"
   ]
  },
  {
   "cell_type": "code",
   "execution_count": null,
   "id": "917dafd6",
   "metadata": {},
   "outputs": [],
   "source": [
    "#| default_exp holemakerbounded"
   ]
  },
  {
   "cell_type": "markdown",
   "id": "4363dde9",
   "metadata": {},
   "source": [
    "`HoleMakerBounded` randomly selects the region to be replaced. The only condition is that the region can not be outbounded of the image."
   ]
  },
  {
   "cell_type": "code",
   "execution_count": null,
   "id": "b1500553",
   "metadata": {},
   "outputs": [],
   "source": [
    "#| export\n",
    "from semantic_segmentation_augmentations.holemakertechnique import *\n",
    "import numpy as np\n",
    "import random"
   ]
  },
  {
   "cell_type": "code",
   "execution_count": null,
   "id": "fdb5a83e",
   "metadata": {},
   "outputs": [],
   "source": [
    "#| hide\n",
    "from nbdev.showdoc import *\n",
    "from fastcore.utils import *"
   ]
  },
  {
   "cell_type": "code",
   "execution_count": null,
   "id": "055bbcf0",
   "metadata": {},
   "outputs": [],
   "source": [
    "#| export\n",
    "class HoleMakerBounded(HoleMakerTechnique):\n",
    "    def __init__(self,\n",
    "                 hole_size: tuple = (100, 100)): # The size of the hole in a tuple like (y, x).\n",
    "        \"Defines the size of the hole.\"\n",
    "        super().__init__(hole_size)\n",
    "\n",
    "    def get_hole(self,\n",
    "             mask: np.ndarray): # The mask associated with the image where the hole is going to be made.\n",
    "        \"Defines how to make the hole.\"\n",
    "        shape = mask.shape\n",
    "        randx, randy = random.randint(0, shape[1] - self.hole_size[1]), random.randint(0, shape[0] - self.hole_size[0])\n",
    "        return [slice(randx, randx + self.hole_size[0]), slice(randy, randy + self.hole_size[1])]"
   ]
  },
  {
   "cell_type": "code",
   "execution_count": null,
   "id": "ed4d7bc8",
   "metadata": {},
   "outputs": [
    {
     "data": {
      "text/markdown": [
       "---\n",
       "\n",
       "### HoleMakerBounded.get_hole\n",
       "\n",
       ">      HoleMakerBounded.get_hole (mask:numpy.ndarray)\n",
       "\n",
       "Defines how to make the hole.\n",
       "\n",
       "|    | **Type** | **Details** |\n",
       "| -- | -------- | ----------- |\n",
       "| mask | ndarray | The mask associated with the image where the hole is going to be made. |"
      ],
      "text/plain": [
       "---\n",
       "\n",
       "### HoleMakerBounded.get_hole\n",
       "\n",
       ">      HoleMakerBounded.get_hole (mask:numpy.ndarray)\n",
       "\n",
       "Defines how to make the hole.\n",
       "\n",
       "|    | **Type** | **Details** |\n",
       "| -- | -------- | ----------- |\n",
       "| mask | ndarray | The mask associated with the image where the hole is going to be made. |"
      ]
     },
     "execution_count": null,
     "metadata": {},
     "output_type": "execute_result"
    }
   ],
   "source": [
    "show_doc(HoleMakerBounded.get_hole)"
   ]
  },
  {
   "cell_type": "code",
   "execution_count": null,
   "id": "1235c9a9",
   "metadata": {},
   "outputs": [],
   "source": [
    "#| hide\n",
    "import nbdev\n",
    "nbdev.nbdev_export()"
   ]
  }
 ],
 "metadata": {
  "kernelspec": {
   "display_name": "Python 3 (ipykernel)",
   "language": "python",
   "name": "python3"
  }
 },
 "nbformat": 4,
 "nbformat_minor": 5
}
