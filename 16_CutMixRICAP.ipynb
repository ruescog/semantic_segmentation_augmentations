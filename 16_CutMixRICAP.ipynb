{
 "cells": [
  {
   "cell_type": "markdown",
   "metadata": {},
   "source": [
    "# CutMixRICAP"
   ]
  },
  {
   "cell_type": "code",
   "execution_count": null,
   "metadata": {},
   "outputs": [],
   "source": [
    "#| default_exp cutmixricap"
   ]
  },
  {
   "cell_type": "code",
   "execution_count": null,
   "metadata": {},
   "outputs": [],
   "source": [
    "#| export\n",
    "from semantic_segmentation_augmentations.holemakertechnique import *\n",
    "from semantic_segmentation_augmentations.holemakerpoint import *\n",
    "from semantic_segmentation_augmentations.holesfilling import *\n",
    "import numpy as np\n",
    "import random"
   ]
  },
  {
   "cell_type": "code",
   "execution_count": null,
   "metadata": {},
   "outputs": [],
   "source": [
    "#| hide\n",
    "from nbdev.showdoc import *\n",
    "from fastcore.utils import *"
   ]
  },
  {
   "cell_type": "code",
   "execution_count": null,
   "metadata": {},
   "outputs": [],
   "source": [
    "#| export\n",
    "class CutMixRICAP(HolesFilling):\n",
    "    \"Defines the amount of holes, the technique used to make them and the probability of apply the technique.\"\n",
    "    def __init__(self,\n",
    "                 holes_num = 1, # The amount of holes to make.\n",
    "                 hole_maker: \"HoleMakerTechnique\" = None, # The strategy used to make the holes.\n",
    "                 p = 1.0): # The probability of applying this technique.\n",
    "        hole_maker = hole_maker if hole_maker else HoleMakerPoint()\n",
    "        super().__init__(hole_maker)\n",
    "        self.p = p\n",
    "  \n",
    "    def before_batch(self):\n",
    "        \"Applies the CutMixRICAP technique (divides the image into a grid and shuffles the portions).\"\n",
    "        if random.random() < self.p:\n",
    "            image_pieces = []\n",
    "            mask_pieces = []\n",
    "            holes = []\n",
    "            for image, mask in zip(self.x, self.y):\n",
    "                shape = image.shape[1:]\n",
    "                self.hole_maker.hole_size = (int(shape[1] / 2), int(shape[0] / 2))\n",
    "                for randy in range(0, shape[0], self.hole_maker.hole_size[1]):\n",
    "                    for randx in range(0, shape[1], self.hole_maker.hole_size[0]):\n",
    "                        self.hole_maker.x = randx\n",
    "                        self.hole_maker.y = randy\n",
    "                        xhole, yhole = self.make_hole(mask)\n",
    "                        image_pieces.append(image[:, yhole, xhole])\n",
    "                        mask_pieces.append(mask[yhole, xhole])\n",
    "                        holes.append([xhole, yhole])\n",
    "\n",
    "        for image, mask in zip(self.x, self.y):\n",
    "            for _ in range(4):\n",
    "                xhole, yhole = holes.pop()\n",
    "                rand = random.randint(0, len(image_pieces) - 1) if len(image_pieces) - 1 >= 0 else 0\n",
    "                sub_image, sub_mask = image_pieces.pop(rand), mask_pieces.pop(rand)\n",
    "                self.fill_hole(image, mask, xhole, yhole, [sub_image, sub_mask])"
   ]
  },
  {
   "cell_type": "markdown",
   "metadata": {},
   "source": [
    "The default technique used to make those holes is the `HoleMakerPoint` technique."
   ]
  },
  {
   "cell_type": "code",
   "execution_count": null,
   "metadata": {},
   "outputs": [
    {
     "data": {
      "text/markdown": [
       "---\n",
       "\n",
       "### CutMixRICAP.before_batch\n",
       "\n",
       ">      CutMixRICAP.before_batch ()\n",
       "\n",
       "Applies the CutMixRICAP technique (divides the image into a grid and shuffles the portions)."
      ],
      "text/plain": [
       "---\n",
       "\n",
       "### CutMixRICAP.before_batch\n",
       "\n",
       ">      CutMixRICAP.before_batch ()\n",
       "\n",
       "Applies the CutMixRICAP technique (divides the image into a grid and shuffles the portions)."
      ]
     },
     "execution_count": null,
     "metadata": {},
     "output_type": "execute_result"
    }
   ],
   "source": [
    "show_doc(CutMixRICAP.before_batch)"
   ]
  },
  {
   "cell_type": "code",
   "execution_count": null,
   "metadata": {},
   "outputs": [],
   "source": [
    "#| hide\n",
    "import nbdev\n",
    "nbdev.nbdev_export()"
   ]
  }
 ],
 "metadata": {
  "kernelspec": {
   "display_name": "Python 3 (ipykernel)",
   "language": "python",
   "name": "python3"
  }
 },
 "nbformat": 4,
 "nbformat_minor": 4
}
