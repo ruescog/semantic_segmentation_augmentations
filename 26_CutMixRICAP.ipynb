{
 "cells": [
  {
   "cell_type": "markdown",
   "metadata": {},
   "source": [
    "# CutMixRICAP"
   ]
  },
  {
   "cell_type": "code",
   "execution_count": null,
   "metadata": {},
   "outputs": [],
   "source": [
    "#| default_exp cutmixricap"
   ]
  },
  {
   "cell_type": "code",
   "execution_count": null,
   "metadata": {},
   "outputs": [],
   "source": [
    "#| export\n",
    "# library\n",
    "from semantic_segmentation_augmentations.holemakertechnique import HoleMakerTechnique, HoleMakerPoint\n",
    "from semantic_segmentation_augmentations.regionmodifier import RegionModifier\n",
    "from semantic_segmentation_augmentations.iholesfilling import HolesFilling\n",
    "\n",
    "# others\n",
    "import random\n",
    "import numpy as np"
   ]
  },
  {
   "cell_type": "code",
   "execution_count": null,
   "metadata": {},
   "outputs": [],
   "source": [
    "#| hide\n",
    "from nbdev.showdoc import *"
   ]
  },
  {
   "cell_type": "code",
   "execution_count": null,
   "metadata": {},
   "outputs": [],
   "source": [
    "#| export\n",
    "class CutMixRICAP(HolesFilling):\n",
    "    \"Defines the amount of holes, the technique used to make them and the probability of apply the technique.\"\n",
    "    def __init__(self,\n",
    "                 t: float = 0.0, # The restriction of the central-boundary position. If 0.0, the central point is selected randomly. If not, the central point is restricted into [t * size, (1-t) * size] area.\n",
    "                 u: float = None, # The restriction of the corner-boundary position. If None, t hparam is used. If not, t hparam is ignored and u hparam is used to restrict the central point into a [0, u * size] U [(1-u) * size, size] area.\n",
    "                 modifier: \"RegionModifier\" = None, # The modifier that defines the traditional augments to apply to the selected regions.\n",
    "                 hole_maker: \"HoleMakerTechnique\" = None, # The strategy used to make the holes.\n",
    "                 p = 0.5): # The probability of applying this technique.\n",
    "        hole_maker = hole_maker if hole_maker else HoleMakerPoint()\n",
    "        super().__init__(modifier, hole_maker)\n",
    "        self.t = t\n",
    "        self.u = u if t == None else None\n",
    "        self.p = p\n",
    "                    \n",
    "    def before_batch(self):\n",
    "        \"Applies the CutMixRICAP technique (divides the image into a grid and shuffles the portions).\"\n",
    "        if random.random() < self.p:\n",
    "            for image, mask in zip(self.x, self.y):\n",
    "                shape = image.shape[1:]\n",
    "                if self.u == None:\n",
    "                    h = random.randint(int(self.t * shape[0]), int((1 - self.t) * (shape[0] - 1)))\n",
    "                    w = random.randint(int(self.t * shape[1]), int((1 - self.t) * (shape[1] - 1)))\n",
    "                else:\n",
    "                    h = random.randint(0, int(self.u * shape[0])) if random.random() < 0.5 else random.randint(int((1 - self.u) * shape[0], shape[0] - 1))\n",
    "                    w = random.randint(0, int(self.u * shape[1])) if random.random() < 0.5 else random.randint(int((1 - self.u) * shape[1], shape[1] - 1))\n",
    "\n",
    "                regions = [\n",
    "                    [slice(0, h), slice(0, w)],\n",
    "                    [slice(0, h), slice(w, shape[1])],\n",
    "                    [slice(h, shape[0]), slice(0, w)],\n",
    "                    [slice(h, shape[0]), slice(w, shape[1])]\n",
    "                ]\n",
    "                \n",
    "                for xhole, yhole in regions:\n",
    "                    rand = random.randint(0, self.x.shape[0] - 1)\n",
    "                    other_image, other_mask = self.x[rand], self.y[rand]\n",
    "                    sub_image, sub_mask = other_image[:, yhole, xhole], other_mask[yhole, xhole]\n",
    "                    self.fill_hole(image, mask, xhole, yhole, [sub_image, sub_mask])"
   ]
  },
  {
   "cell_type": "markdown",
   "metadata": {},
   "source": [
    "The default technique used to make those holes is the `HoleMakerPoint` technique.\n",
    "\n",
    "This technique was defined and implemented [here](http://proceedings.mlr.press/v95/takahashi18a/takahashi18a.pdf)."
   ]
  },
  {
   "cell_type": "code",
   "execution_count": null,
   "metadata": {},
   "outputs": [
    {
     "data": {
      "text/markdown": [
       "---\n",
       "\n",
       "### CutMixRICAP.before_batch\n",
       "\n",
       ">      CutMixRICAP.before_batch ()\n",
       "\n",
       "Applies the CutMixRICAP technique (divides the image into a grid and shuffles the portions)."
      ],
      "text/plain": [
       "---\n",
       "\n",
       "### CutMixRICAP.before_batch\n",
       "\n",
       ">      CutMixRICAP.before_batch ()\n",
       "\n",
       "Applies the CutMixRICAP technique (divides the image into a grid and shuffles the portions)."
      ]
     },
     "execution_count": null,
     "metadata": {},
     "output_type": "execute_result"
    }
   ],
   "source": [
    "show_doc(CutMixRICAP.before_batch)"
   ]
  },
  {
   "cell_type": "code",
   "execution_count": null,
   "metadata": {},
   "outputs": [],
   "source": [
    "#| hide\n",
    "import nbdev\n",
    "nbdev.nbdev_export()"
   ]
  }
 ],
 "metadata": {
  "kernelspec": {
   "display_name": "Python 3 (ipykernel)",
   "language": "python",
   "name": "python3"
  },
  "language_info": {
   "codemirror_mode": {
    "name": "ipython",
    "version": 3
   },
   "file_extension": ".py",
   "mimetype": "text/x-python",
   "name": "python",
   "nbconvert_exporter": "python",
   "pygments_lexer": "ipython3",
   "version": "3.8.13"
  }
 },
 "nbformat": 4,
 "nbformat_minor": 4
}
