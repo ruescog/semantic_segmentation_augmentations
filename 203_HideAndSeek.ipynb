{
 "cells": [
  {
   "cell_type": "markdown",
   "metadata": {},
   "source": [
    "# HideAndSeek"
   ]
  },
  {
   "cell_type": "code",
   "execution_count": null,
   "metadata": {},
   "outputs": [],
   "source": [
    "#| default_exp hideandseek"
   ]
  },
  {
   "cell_type": "code",
   "execution_count": null,
   "metadata": {},
   "outputs": [],
   "source": [
    "#| export\n",
    "# library\n",
    "from semantic_segmentation_augmentations.holemakertechnique import HoleMakerTechnique, HoleMakerPoint\n",
    "from semantic_segmentation_augmentations.regionmodifier import RegionModifier\n",
    "from semantic_segmentation_augmentations.iholesfilling import HolesFilling\n",
    "\n",
    "# others\n",
    "import random\n",
    "import torch\n",
    "import numpy as np"
   ]
  },
  {
   "cell_type": "code",
   "execution_count": null,
   "metadata": {},
   "outputs": [],
   "source": [
    "#| hide\n",
    "from nbdev.showdoc import *"
   ]
  },
  {
   "cell_type": "code",
   "execution_count": null,
   "metadata": {},
   "outputs": [],
   "source": [
    "#| export\n",
    "class HideAndSeek(HolesFilling):\n",
    "    \"Defines the amount of holes, the probability of deactivation, the technique used to make them and the probability of apply the technique.\"\n",
    "    def __init__(self,\n",
    "                 deactivation_p = 0.1, # The probability of deactivate a region.\n",
    "                 modifier: \"RegionModifier\" = None, # The modifier that defines the traditional augments to apply to the selected regions.\n",
    "                 hole_maker: \"HoleMakerTechnique\" = None, # The strategy used to make the holes.\n",
    "                 p = 0.5): # The probability of applying this technique.\n",
    "        hole_maker = hole_maker if hole_maker else HoleMakerPoint()\n",
    "        super().__init__(modifier, hole_maker)\n",
    "        self.deactivation_p = deactivation_p\n",
    "        self.p = p\n",
    "\n",
    "    def before_batch(self):\n",
    "        \"Applies the Hide & Seek technique (divides the image into a grid and deactivates some portions with a determinated probability).\"\n",
    "        \n",
    "        if not self.training:\n",
    "            return\n",
    "    \n",
    "        for image, mask in zip(self.x, self.y):\n",
    "            if random.random() < self.p:\n",
    "                shape = image.shape[1:]\n",
    "                for randy in range(0, shape[0], self.hole_maker.hole_size[0]):\n",
    "                    for randx in range(0, shape[1], self.hole_maker.hole_size[1]):\n",
    "                        if random.random() < self.deactivation_p:\n",
    "                            self.hole_maker.x = randx\n",
    "                            self.hole_maker.y = randy\n",
    "                            xhole, yhole = self.make_hole(mask)\n",
    "                            self.fill_hole(image, mask, xhole, yhole, [torch.min(image), 0])"
   ]
  },
  {
   "cell_type": "markdown",
   "metadata": {},
   "source": [
    "The default technique used to make those holes is the `HoleMakerPoint` technique.\n",
    "\n",
    "`HideAndSeek` technique was defined and implemented [here](https://arxiv.org/abs/1811.02545)."
   ]
  },
  {
   "cell_type": "code",
   "execution_count": null,
   "metadata": {},
   "outputs": [],
   "source": [
    "show_doc(HideAndSeek.before_batch)"
   ]
  },
  {
   "cell_type": "code",
   "execution_count": null,
   "metadata": {},
   "outputs": [],
   "source": [
    "#| hide\n",
    "import nbdev\n",
    "nbdev.nbdev_export()"
   ]
  }
 ],
 "metadata": {
  "kernelspec": {
   "display_name": "Python [conda env:.conda-visionmodelsevaluation]",
   "language": "python",
   "name": "conda-env-.conda-visionmodelsevaluation-py"
  }
 },
 "nbformat": 4,
 "nbformat_minor": 4
}
