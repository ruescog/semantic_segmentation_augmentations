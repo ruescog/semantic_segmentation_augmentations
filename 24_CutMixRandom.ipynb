{
 "cells": [
  {
   "cell_type": "markdown",
   "metadata": {},
   "source": [
    "# CutMixRandom"
   ]
  },
  {
   "cell_type": "code",
   "execution_count": null,
   "metadata": {},
   "outputs": [],
   "source": [
    "#| default_exp cutmixrandom"
   ]
  },
  {
   "cell_type": "code",
   "execution_count": null,
   "metadata": {},
   "outputs": [
    {
     "name": "stderr",
     "output_type": "stream",
     "text": [
      "/home/ruescog/.conda/envs/visionmodelsevaluation/lib/python3.10/site-packages/tqdm/auto.py:22: TqdmWarning: IProgress not found. Please update jupyter and ipywidgets. See https://ipywidgets.readthedocs.io/en/stable/user_install.html\n",
      "  from .autonotebook import tqdm as notebook_tqdm\n"
     ]
    }
   ],
   "source": [
    "#| export\n",
    "# library\n",
    "from semantic_segmentation_augmentations.holemakertechnique import HoleMakerTechnique\n",
    "from semantic_segmentation_augmentations.regionmodifier import RegionModifier\n",
    "from semantic_segmentation_augmentations.iholesfilling import HolesFilling\n",
    "\n",
    "# others\n",
    "import random\n",
    "from fastai.basics import *\n",
    "import numpy as np"
   ]
  },
  {
   "cell_type": "code",
   "execution_count": null,
   "metadata": {},
   "outputs": [],
   "source": [
    "#| hide\n",
    "from nbdev.showdoc import *"
   ]
  },
  {
   "cell_type": "code",
   "execution_count": null,
   "metadata": {},
   "outputs": [],
   "source": [
    "#| export\n",
    "class CutMixRandom(HolesFilling):\n",
    "    \"Defines the amount of holes, the technique used to make them and the probability of apply the technique.\"\n",
    "    def __init__(self,\n",
    "                 holes_num = 1, # The amount of holes to make.\n",
    "                 modifier: \"RegionModifier\" = None, # The modifier that defines the traditional augments to apply to the selected regions.\n",
    "                 hole_maker: \"HoleMakerTechnique\" = None, # The strategy used to make the holes.\n",
    "                 p = 0.5): # The probability of applying this technique.\n",
    "        super().__init__(modifier, hole_maker)\n",
    "        self.holes_num = holes_num\n",
    "        self.p = p\n",
    "\n",
    "    def before_batch(self):\n",
    "        \"Applies the CutMix technique.\"\n",
    "        x, y = tensor(self.x).clone(), tensor(self.y).clone() # tensor is defined in fastai.basics\n",
    "        for image, mask in zip(self.x, self.y):\n",
    "            if random.random() < self.p:\n",
    "                for _ in range(self.holes_num):\n",
    "                    rand = random.randint(0, self.x.shape[0] - 1)\n",
    "                    other_image, other_mask = x[rand], y[rand]\n",
    "                    xhole, yhole = self.make_hole(mask)\n",
    "                    sub_image, sub_mask = other_image[:, yhole, xhole], other_mask[yhole, xhole]\n",
    "                    self.fill_hole(image, mask, xhole, yhole, [sub_image, sub_mask])"
   ]
  },
  {
   "cell_type": "markdown",
   "metadata": {},
   "source": [
    "The default technique used to make those holes is the `HoleMakerRandom` technique.\n",
    "\n",
    "`CutMix` technique was defined and implemented [here](https://openaccess.thecvf.com/content_ICCV_2019/papers/Yun_CutMix_Regularization_Strategy_to_Train_Strong_Classifiers_With_Localizable_Features_ICCV_2019_paper.pdf)."
   ]
  },
  {
   "cell_type": "code",
   "execution_count": null,
   "metadata": {},
   "outputs": [
    {
     "data": {
      "text/markdown": [
       "---\n",
       "\n",
       "### CutMixRandom.before_batch\n",
       "\n",
       ">      CutMixRandom.before_batch ()\n",
       "\n",
       "Applies the CutMix technique."
      ],
      "text/plain": [
       "---\n",
       "\n",
       "### CutMixRandom.before_batch\n",
       "\n",
       ">      CutMixRandom.before_batch ()\n",
       "\n",
       "Applies the CutMix technique."
      ]
     },
     "execution_count": null,
     "metadata": {},
     "output_type": "execute_result"
    }
   ],
   "source": [
    "show_doc(CutMixRandom.before_batch)"
   ]
  },
  {
   "cell_type": "code",
   "execution_count": null,
   "metadata": {},
   "outputs": [],
   "source": [
    "#| hide\n",
    "import nbdev\n",
    "nbdev.nbdev_export()"
   ]
  }
 ],
 "metadata": {
  "kernelspec": {
   "display_name": "Python [conda env:.conda-visionmodelsevaluation]",
   "language": "python",
   "name": "conda-env-.conda-visionmodelsevaluation-py"
  }
 },
 "nbformat": 4,
 "nbformat_minor": 4
}
