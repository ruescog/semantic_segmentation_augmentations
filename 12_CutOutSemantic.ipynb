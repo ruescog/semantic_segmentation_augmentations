{
 "cells": [
  {
   "cell_type": "markdown",
   "metadata": {},
   "source": [
    "# CutOutSemantic"
   ]
  },
  {
   "cell_type": "code",
   "execution_count": null,
   "metadata": {},
   "outputs": [],
   "source": [
    "#| default_exp cutoutsemantic"
   ]
  },
  {
   "cell_type": "code",
   "execution_count": null,
   "metadata": {},
   "outputs": [],
   "source": [
    "#| export\n",
    "from semantic_segmentation_augmentations.holemakertechnique import *\n",
    "from semantic_segmentation_augmentations.holemakerrandom import *\n",
    "from semantic_segmentation_augmentations.holesfilling import *\n",
    "import numpy as np\n",
    "import random\n",
    "import torch\n",
    "from fastai.basics import *"
   ]
  },
  {
   "cell_type": "code",
   "execution_count": null,
   "metadata": {},
   "outputs": [],
   "source": [
    "#| hide\n",
    "from nbdev.showdoc import *\n",
    "from fastcore.utils import *"
   ]
  },
  {
   "cell_type": "code",
   "execution_count": null,
   "metadata": {},
   "outputs": [],
   "source": [
    "#| export\n",
    "class CutOutSemantic(HolesFilling):\n",
    "    \"Defines the amount of holes, the class to be occluded, the technique used to make them and the probability of apply the technique.\"\n",
    "    def __init__(self,\n",
    "                 holes_num = 1, # The amount of holes to make.\n",
    "                 occlusion_class = -1, # The class to remove. If -1, selects it randomly in each use.\n",
    "                 hole_maker: \"HoleMakerTechnique\" = None, # The strategy used to make the holes.\n",
    "                 p = 1.0): # The probability of applying this technique.\n",
    "        super().__init__(hole_maker)\n",
    "        self.holes_num = holes_num\n",
    "        self.occlusion_class = occlusion_class\n",
    "        self.p = p\n",
    "\n",
    "    def before_batch(self):\n",
    "        \"Applies the CutOut technique with semantic information (only applies the CutOut to a selected class).\"\n",
    "        if random.random() < self.p:\n",
    "            for image, mask in zip(self.x, self.y):\n",
    "                shape = image.shape[1:]\n",
    "                for _ in range(self.holes_num):\n",
    "                    xhole, yhole = self.make_hole(mask)\n",
    "                    occlusion_value = self.occlusion_class if self.occlusion_class != -1 else random.randint(1, len(mask.unique()))\n",
    "                    sub_image, sub_mask = TensorBase(image[:, yhole, xhole]), TensorBase(mask[yhole, xhole])\n",
    "                    replacement_mask = sub_mask == occlusion_value\n",
    "                    sub_image[:, replacement_mask] = torch.min(image)\n",
    "                    sub_mask[replacement_mask] = 0\n",
    "                    self.fill_hole(image, mask, xhole, yhole, [sub_image, sub_mask])"
   ]
  },
  {
   "cell_type": "markdown",
   "metadata": {},
   "source": [
    "The default technique used to make those holes is the `HoleMakerRandom` technique."
   ]
  },
  {
   "cell_type": "code",
   "execution_count": null,
   "metadata": {},
   "outputs": [
    {
     "data": {
      "text/markdown": [
       "---\n",
       "\n",
       "### CutOutSemantic.before_batch\n",
       "\n",
       ">      CutOutSemantic.before_batch ()\n",
       "\n",
       "Applies the CutOut technique with semantic information (only applies the CutOut to a selected class)."
      ],
      "text/plain": [
       "---\n",
       "\n",
       "### CutOutSemantic.before_batch\n",
       "\n",
       ">      CutOutSemantic.before_batch ()\n",
       "\n",
       "Applies the CutOut technique with semantic information (only applies the CutOut to a selected class)."
      ]
     },
     "execution_count": null,
     "metadata": {},
     "output_type": "execute_result"
    }
   ],
   "source": [
    "show_doc(CutOutSemantic.before_batch)"
   ]
  },
  {
   "cell_type": "code",
   "execution_count": null,
   "metadata": {},
   "outputs": [],
   "source": [
    "#| hide\n",
    "import nbdev\n",
    "nbdev.nbdev_export()"
   ]
  }
 ],
 "metadata": {
  "kernelspec": {
   "display_name": "Python 3 (ipykernel)",
   "language": "python",
   "name": "python3"
  }
 },
 "nbformat": 4,
 "nbformat_minor": 4
}
