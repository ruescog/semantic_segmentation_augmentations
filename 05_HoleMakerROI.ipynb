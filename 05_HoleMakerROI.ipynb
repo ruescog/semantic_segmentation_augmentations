{
 "cells": [
  {
   "cell_type": "markdown",
   "id": "ef5a0699",
   "metadata": {},
   "source": [
    "# HoleMakerROI"
   ]
  },
  {
   "cell_type": "code",
   "execution_count": null,
   "id": "917dafd6",
   "metadata": {},
   "outputs": [],
   "source": [
    "#| default_exp holemakerroi"
   ]
  },
  {
   "cell_type": "markdown",
   "id": "4363dde9",
   "metadata": {},
   "source": [
    "`HoleMakerROI` selects the region to be replaced using the information of that region."
   ]
  },
  {
   "cell_type": "code",
   "execution_count": null,
   "id": "b1500553",
   "metadata": {},
   "outputs": [],
   "source": [
    "#| export\n",
    "from semantic_segmentation_augmentations.holemakertechnique import *\n",
    "import numpy as np\n",
    "import cv2\n",
    "import random"
   ]
  },
  {
   "cell_type": "code",
   "execution_count": null,
   "id": "fdb5a83e",
   "metadata": {},
   "outputs": [],
   "source": [
    "#| hide\n",
    "from nbdev.showdoc import *\n",
    "from fastcore.utils import *"
   ]
  },
  {
   "cell_type": "code",
   "execution_count": null,
   "id": "055bbcf0",
   "metadata": {},
   "outputs": [],
   "source": [
    "#| export\n",
    "class HoleMakerROI(HoleMakerTechnique):\n",
    "    def __init__(self,\n",
    "            ROI_class: int = -1, # The class that is going to be targeted to select as a ROI (region of interest).\n",
    "            ROI_area: int = 25, # The minimum area to be selected as a ROI.\n",
    "            delta_ratio: float = None # The ratio of pixels of the ROI that are going to be used. A ratio of 1 takes all the ROI pixels, a ratio < 1 crops the ROI and a ratio > 1 adds more pixels to the ROI. A None ratio takes a random value [0.9, 1.1) in each usage.\n",
    "        ):\n",
    "        self.ROI_class = ROI_class\n",
    "        self.ROI_area = ROI_area\n",
    "        self.delta_ratio = delta_ratio\n",
    "        self.holes = []\n",
    "        self.mask = None\n",
    "    \n",
    "    def __get_holes__(self,\n",
    "             mask: np.ndarray): # The mask associated with the image where the holes are going to be made.\n",
    "        \"Defines how to make the hole.\"\n",
    "        # Gets the contours of the binary mask\n",
    "        ROI_class = self.ROI_class if self.ROI_class != -1 else random.randint(1, np.unique(mask).shape[0] - 1)\n",
    "        _mask = np.copy(mask)\n",
    "        _mask[_mask != ROI_class] = 0\n",
    "        contours, _ = cv2.findContours(_mask, cv2.RETR_FLOODFILL, cv2.CHAIN_APPROX_SIMPLE)\n",
    "\n",
    "        # Extracts the ROIs\n",
    "        areas = []\n",
    "        extractions = []\n",
    "        for c in contours:\n",
    "            if cv2.contourArea(c) >= self.ROI_area:\n",
    "                areas.append(cv2.contourArea(c))\n",
    "                extractions.append(cv2.boundingRect(c))\n",
    "        if areas:\n",
    "            extractions = extractions[:np.argmax(areas)]\n",
    "            # Saves all the possible holes\n",
    "            maxy, maxx = _mask.shape\n",
    "            # max and min are needed because sometimes the indexes are negative or greather than the shape\n",
    "            # the ratio of pixels is calculated here in order to modify the ROI\n",
    "            delta_ratio = self.delta_ratio if self.delta_ratio else random.random() / 5 + 0.9\n",
    "            self.holes = [[\n",
    "                slice(int(1 / delta_ratio * max(0, extraction[0])), int(delta_ratio * min(maxx, extraction[0] + extraction[2]))),\n",
    "                slice(int(1 / delta_ratio * max(0, extraction[1])), int(delta_ratio * min(maxy, extraction[1] + extraction[3])))]\n",
    "                for extraction in extractions]\n",
    "        else:\n",
    "            self.holes = []\n",
    "    \n",
    "    def get_hole(self,\n",
    "             mask: np.ndarray): # The mask associated with the image where the holes are going to be made.\n",
    "        \"Defines how to make the hole.\"\n",
    "        _mask = mask.cpu()\n",
    "        if np.array_equal(self.mask, _mask) and self.holes:\n",
    "            return self.holes.pop()\n",
    "        else:\n",
    "            self.mask = np.copy(_mask)\n",
    "            self.__get_holes__(_mask)\n",
    "            if self.holes:\n",
    "                return self.get_hole(_mask)\n",
    "            else:\n",
    "                return [slice(0), slice(0)]"
   ]
  },
  {
   "cell_type": "code",
   "execution_count": null,
   "id": "ed4d7bc8",
   "metadata": {},
   "outputs": [
    {
     "data": {
      "text/markdown": [
       "---\n",
       "\n",
       "### HoleMakerAttention.get_hole\n",
       "\n",
       ">      HoleMakerAttention.get_hole (mask:numpy.ndarray)\n",
       "\n",
       "Defines how to make the hole.\n",
       "\n",
       "|    | **Type** | **Details** |\n",
       "| -- | -------- | ----------- |\n",
       "| mask | ndarray | The mask associated with the image where the hole is going to be made. |"
      ],
      "text/plain": [
       "---\n",
       "\n",
       "### HoleMakerAttention.get_hole\n",
       "\n",
       ">      HoleMakerAttention.get_hole (mask:numpy.ndarray)\n",
       "\n",
       "Defines how to make the hole.\n",
       "\n",
       "|    | **Type** | **Details** |\n",
       "| -- | -------- | ----------- |\n",
       "| mask | ndarray | The mask associated with the image where the hole is going to be made. |"
      ]
     },
     "execution_count": null,
     "metadata": {},
     "output_type": "execute_result"
    }
   ],
   "source": [
    "show_doc(HoleMakerROI.get_hole)"
   ]
  },
  {
   "cell_type": "code",
   "execution_count": null,
   "id": "1235c9a9",
   "metadata": {},
   "outputs": [],
   "source": [
    "#| hide\n",
    "import nbdev\n",
    "nbdev.nbdev_export()"
   ]
  }
 ],
 "metadata": {
  "kernelspec": {
   "display_name": "Python [conda env:.conda-visionmodelsevaluation]",
   "language": "python",
   "name": "conda-env-.conda-visionmodelsevaluation-py"
  }
 },
 "nbformat": 4,
 "nbformat_minor": 5
}
