{
 "cells": [
  {
   "cell_type": "markdown",
   "id": "ef5a0699",
   "metadata": {},
   "source": [
    "# HoleMakerAttention"
   ]
  },
  {
   "cell_type": "code",
   "execution_count": null,
   "id": "917dafd6",
   "metadata": {},
   "outputs": [],
   "source": [
    "#| default_exp holemakerattention"
   ]
  },
  {
   "cell_type": "markdown",
   "id": "4363dde9",
   "metadata": {},
   "source": [
    "`HoleMakerROI` selects the region to be replaced using the information of that region."
   ]
  },
  {
   "cell_type": "code",
   "execution_count": 6,
   "id": "b1500553",
   "metadata": {},
   "outputs": [],
   "source": [
    "#| export\n",
    "from semantic_segmentation_augmentations.holemakertechnique import *\n",
    "import numpy as np\n",
    "import cv2\n",
    "import random"
   ]
  },
  {
   "cell_type": "code",
   "execution_count": null,
   "id": "fdb5a83e",
   "metadata": {},
   "outputs": [],
   "source": [
    "#| hide\n",
    "from nbdev.showdoc import *\n",
    "from fastcore.utils import *"
   ]
  },
  {
   "cell_type": "code",
   "execution_count": 8,
   "id": "055bbcf0",
   "metadata": {},
   "outputs": [],
   "source": [
    "#| export\n",
    "class HoleMakerROI(HoleMakerTechnique):\n",
    "    def __init__(self,\n",
    "            ROI_class: int = -1, # The class that is going to be targeted to select as a ROI (region of interest).\n",
    "            ROI_area: int = 25 # The minimum area to be selected as a ROI\n",
    "        ):\n",
    "        pass\n",
    "    \n",
    "    def get_hole(self,\n",
    "             mask: np.ndarray): # The mask associated with the image where the holes are going to be made.\n",
    "        \"Defines how to make the hole.\"\n",
    "        # Gets the contours of the binary mask\n",
    "        ROI_class = self.ROI_class if self.ROI_class != -1 else random.randint(1, np.unique(mask) - 1)\n",
    "        _mask = nask[mask != ROI_class] = 0\n",
    "        contours, _ = cv2.findContours(_mask, cv2.RETR_TREE, cv2.CHAIN_APPROX_SIMPLE)\n",
    "        \n",
    "        # Extracts the ROIs\n",
    "        areas = []\n",
    "        extractions = []\n",
    "        for c in contours:\n",
    "            if cv2.contourArea(c) >= self.ROI_area:\n",
    "                areas.append(cv2.contourArea(c))\n",
    "                extractions.append(cv2.boundingRect(c))\n",
    "        extractions = extractions[:np.argmax(areas)]\n",
    "        \n",
    "        # Return all the possible holes\n",
    "        return [[slice(extraction[1], extraction[1] + extraction[3]), slice(extraction[0], extraction[0] + extraction[2])] for extraction in extractions]"
   ]
  },
  {
   "cell_type": "code",
   "execution_count": null,
   "id": "ed4d7bc8",
   "metadata": {},
   "outputs": [
    {
     "data": {
      "text/markdown": [
       "---\n",
       "\n",
       "### HoleMakerAttention.get_hole\n",
       "\n",
       ">      HoleMakerAttention.get_hole (mask:numpy.ndarray)\n",
       "\n",
       "Defines how to make the hole.\n",
       "\n",
       "|    | **Type** | **Details** |\n",
       "| -- | -------- | ----------- |\n",
       "| mask | ndarray | The mask associated with the image where the hole is going to be made. |"
      ],
      "text/plain": [
       "---\n",
       "\n",
       "### HoleMakerAttention.get_hole\n",
       "\n",
       ">      HoleMakerAttention.get_hole (mask:numpy.ndarray)\n",
       "\n",
       "Defines how to make the hole.\n",
       "\n",
       "|    | **Type** | **Details** |\n",
       "| -- | -------- | ----------- |\n",
       "| mask | ndarray | The mask associated with the image where the hole is going to be made. |"
      ]
     },
     "execution_count": null,
     "metadata": {},
     "output_type": "execute_result"
    }
   ],
   "source": [
    "show_doc(HoleMakerROI.get_hole)"
   ]
  },
  {
   "cell_type": "code",
   "execution_count": null,
   "id": "1235c9a9",
   "metadata": {},
   "outputs": [],
   "source": [
    "#| hide\n",
    "import nbdev\n",
    "nbdev.nbdev_export()"
   ]
  }
 ],
 "metadata": {
  "kernelspec": {
   "display_name": "Python [conda env:.conda-visionmodelsevaluation]",
   "language": "python",
   "name": "conda-env-.conda-visionmodelsevaluation-py"
  },
  "language_info": {
   "codemirror_mode": {
    "name": "ipython",
    "version": 3
   },
   "file_extension": ".py",
   "mimetype": "text/x-python",
   "name": "python",
   "nbconvert_exporter": "python",
   "pygments_lexer": "ipython3",
   "version": "3.10.4"
  }
 },
 "nbformat": 4,
 "nbformat_minor": 5
}
