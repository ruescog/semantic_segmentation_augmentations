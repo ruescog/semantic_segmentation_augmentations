{
 "cells": [
  {
   "cell_type": "markdown",
   "metadata": {},
   "source": [
    "# SelfMix"
   ]
  },
  {
   "cell_type": "code",
   "execution_count": null,
   "metadata": {},
   "outputs": [],
   "source": [
    "#| default_exp selfmix"
   ]
  },
  {
   "cell_type": "code",
   "execution_count": null,
   "metadata": {},
   "outputs": [],
   "source": [
    "#| export\n",
    "# library\n",
    "from semantic_segmentation_augmentations.holemakertechnique import HoleMakerTechnique, HoleMakerROI\n",
    "from semantic_segmentation_augmentations.regionmodifier import RegionModifier\n",
    "from semantic_segmentation_augmentations.transparencemix import TransparenceMix # direct reference to avoid cyclic importations\n",
    "\n",
    "# others\n",
    "import cv2\n",
    "import random\n",
    "from fastai.basics import *\n",
    "import numpy as np"
   ]
  },
  {
   "cell_type": "code",
   "execution_count": null,
   "metadata": {},
   "outputs": [],
   "source": [
    "#| hide\n",
    "from nbdev.showdoc import *"
   ]
  },
  {
   "cell_type": "code",
   "execution_count": null,
   "metadata": {},
   "outputs": [],
   "source": [
    "#| export\n",
    "class SelfMix(TransparenceMix):\n",
    "    \"Defines the amount of holes, the technique used to make them and the probability of apply the technique.\"\n",
    "    def __init__(self,\n",
    "                 holes_num: int = 1, # The amount of holes to make.\n",
    "                 ROI_class: int = -1, # The class to be used to select the ROI.\n",
    "                 modifier: \"RegionModifier\" = None, # The modifier that defines the traditional augments to apply to the selected regions.\n",
    "                 p: float = 0.5): # The probability of applying this technique.\n",
    "        hole_maker = HoleMakerROI(ROI_class)\n",
    "        super().__init__(holes_num, modifier, hole_maker, p)"
   ]
  },
  {
   "cell_type": "markdown",
   "metadata": {},
   "source": [
    "`SelfMix` technique extracts a ROI and overlaps it, with transparece, in another image.\n",
    "\n",
    "In our library, `SelfMix` is just a particular case of `TranspareceMix` with a `HoleMakerROI` technique.\n",
    "\n",
    "The definition and implementation of this technique can be found [here](https://doi.org/10.1007/978-3-031-16440-8_65)."
   ]
  },
  {
   "cell_type": "code",
   "execution_count": null,
   "metadata": {},
   "outputs": [],
   "source": [
    "show_doc(SelfMix.before_batch)"
   ]
  },
  {
   "cell_type": "code",
   "execution_count": null,
   "metadata": {},
   "outputs": [],
   "source": [
    "#| hide\n",
    "import nbdev\n",
    "nbdev.nbdev_export()"
   ]
  }
 ],
 "metadata": {
  "kernelspec": {
   "display_name": "Python 3 (ipykernel)",
   "language": "python",
   "name": "python3"
  }
 },
 "nbformat": 4,
 "nbformat_minor": 4
}
