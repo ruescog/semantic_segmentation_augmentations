{
 "cells": [
  {
   "cell_type": "markdown",
   "id": "ef5a0699",
   "metadata": {},
   "source": [
    "# HoleMakerAttention"
   ]
  },
  {
   "cell_type": "code",
   "execution_count": null,
   "id": "917dafd6",
   "metadata": {},
   "outputs": [],
   "source": [
    "#| default_exp holemakerattention"
   ]
  },
  {
   "cell_type": "markdown",
   "id": "4363dde9",
   "metadata": {},
   "source": [
    "`HoleMakerAttention` selects the region to be replaced using the information of that region. The region must have at least `p` pixels belowing to any relevant class (not the background), where `p` is a ratio fixed by the user."
   ]
  },
  {
   "cell_type": "code",
   "execution_count": null,
   "id": "b1500553",
   "metadata": {},
   "outputs": [],
   "source": [
    "#| export\n",
    "from semantic_segmentation_augmentations.holemakertechnique import *\n",
    "import numpy as np\n",
    "import random"
   ]
  },
  {
   "cell_type": "code",
   "execution_count": null,
   "id": "fdb5a83e",
   "metadata": {},
   "outputs": [],
   "source": [
    "#| hide\n",
    "from nbdev.showdoc import *\n",
    "from fastcore.utils import *"
   ]
  },
  {
   "cell_type": "code",
   "execution_count": null,
   "id": "055bbcf0",
   "metadata": {},
   "outputs": [],
   "source": [
    "#| export\n",
    "class HoleMakerAttention(HoleMakerTechnique):\n",
    "    def __init__(self,\n",
    "                 attention_threshold: float = 0.1, # The ratio of relevant pixels in the selected region.\n",
    "                 hole_size: tuple = (100, 100)): # The size of the hole in a tuple like (y, x).\n",
    "        \"Defines the size of the hole.\"\n",
    "        super().__init__(hole_size)\n",
    "        self.attention_threshold = attention_threshold\n",
    "\n",
    "    def get_hole(self,\n",
    "             mask: np.ndarray): # The mask associated with the image where the hole is going to be made.\n",
    "        \"Defines how to make the hole.\"\n",
    "        shape = mask.shape\n",
    "        sub_mask_information = 0\n",
    "        while sub_mask_information / (self.hole_size[0] * self.hole_size[1]) < self.attention_threshold:\n",
    "            randx, randy = random.randint(0, shape[1] - self.hole_size[1]), random.randint(0, shape[0] - self.hole_size[0])\n",
    "            sub_mask = mask[[slice(randy, randy + self.hole_size[0]), slice(randx, randx + self.hole_size[1])]]\n",
    "            sub_mask_information = sub_mask[sub_mask != 0].size().numel()\n",
    "\n",
    "        return [slice(randx, randx + self.hole_size[1]), slice(randy, randy + self.hole_size[0])]"
   ]
  },
  {
   "cell_type": "code",
   "execution_count": null,
   "id": "ed4d7bc8",
   "metadata": {},
   "outputs": [
    {
     "data": {
      "text/markdown": [
       "---\n",
       "\n",
       "### HoleMakerAttention.get_hole\n",
       "\n",
       ">      HoleMakerAttention.get_hole (mask:numpy.ndarray)\n",
       "\n",
       "Defines how to make the hole.\n",
       "\n",
       "|    | **Type** | **Details** |\n",
       "| -- | -------- | ----------- |\n",
       "| mask | ndarray | The mask associated with the image where the hole is going to be made. |"
      ],
      "text/plain": [
       "---\n",
       "\n",
       "### HoleMakerAttention.get_hole\n",
       "\n",
       ">      HoleMakerAttention.get_hole (mask:numpy.ndarray)\n",
       "\n",
       "Defines how to make the hole.\n",
       "\n",
       "|    | **Type** | **Details** |\n",
       "| -- | -------- | ----------- |\n",
       "| mask | ndarray | The mask associated with the image where the hole is going to be made. |"
      ]
     },
     "execution_count": null,
     "metadata": {},
     "output_type": "execute_result"
    }
   ],
   "source": [
    "show_doc(HoleMakerAttention.get_hole)"
   ]
  },
  {
   "cell_type": "code",
   "execution_count": null,
   "id": "1235c9a9",
   "metadata": {},
   "outputs": [],
   "source": [
    "#| hide\n",
    "import nbdev\n",
    "nbdev.nbdev_export()"
   ]
  }
 ],
 "metadata": {
  "kernelspec": {
   "display_name": "Python 3 (ipykernel)",
   "language": "python",
   "name": "python3"
  },
  "language_info": {
   "codemirror_mode": {
    "name": "ipython",
    "version": 3
   },
   "file_extension": ".py",
   "mimetype": "text/x-python",
   "name": "python",
   "nbconvert_exporter": "python",
   "pygments_lexer": "ipython3",
   "version": "3.8.13"
  }
 },
 "nbformat": 4,
 "nbformat_minor": 5
}
