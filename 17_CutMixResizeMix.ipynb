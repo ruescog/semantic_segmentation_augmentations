{
 "cells": [
  {
   "cell_type": "markdown",
   "metadata": {},
   "source": [
    "# CutMixResizeMix"
   ]
  },
  {
   "cell_type": "code",
   "execution_count": null,
   "metadata": {},
   "outputs": [],
   "source": [
    "#| default_exp cutmixresizemix"
   ]
  },
  {
   "cell_type": "code",
   "execution_count": null,
   "metadata": {},
   "outputs": [],
   "source": [
    "#| export\n",
    "from semantic_segmentation_augmentations.holemakertechnique import *\n",
    "from semantic_segmentation_augmentations.holemakerbounded import *\n",
    "from semantic_segmentation_augmentations.holesfilling import *\n",
    "import numpy as np"
   ]
  },
  {
   "cell_type": "code",
   "execution_count": null,
   "metadata": {},
   "outputs": [],
   "source": [
    "#| hide\n",
    "from nbdev.showdoc import *\n",
    "from fastcore.utils import *\n",
    "from random import random\n",
    "import cv2\n"
   ]
  },
  {
   "cell_type": "code",
   "execution_count": null,
   "metadata": {},
   "outputs": [],
   "source": [
    "#| export\n",
    "class CutMixResizeMix(HolesFilling):\n",
    "    \"Defines the amount of holes, the technique used to make them and the probability of apply the technique.\"\n",
    "    def __init__(self,\n",
    "                 holes_num = 1, # The amount of holes to make.\n",
    "                 hole_maker: \"HoleMakerTechnique\" = None, # The strategy used to make the holes.\n",
    "                 p = 1.0): # The probability of applying this technique.\n",
    "        hole_maker = hole_maker if hole_maker else HoleMakerBounded(hole_size = (64, 64))\n",
    "        super().__init__(hole_maker)\n",
    "        self.holes_num = holes_num\n",
    "        self.p = p\n",
    "\n",
    "    def before_batch(self):\n",
    "        \"Applies the CutMixResizeMix technique (fills a hole with the whole resized image).\"\n",
    "        if random() < self.p:\n",
    "            for image, mask in zip(self.x, self.y):\n",
    "                for _ in range(self.holes_num):\n",
    "                    xhole, yhole = self.make_hole(mask)\n",
    "                    sub_image, sub_mask = image[..., tf.newaxis], mask[..., tf.newaxis]\n",
    "                    hole_size = self.hole_maker.hole_size\n",
    "                    sub_image = TensorBase(cv2.resize(sub_image.cpu(), hole_size)[..., 0])\n",
    "                    sub_mask = TensorBase(tf.image.resize(sub_mask.cpu(), hole_size)[..., 0])\n",
    "                    self.fill_hole(image, mask, xhole, yhole, [sub_image, sub_mask])"
   ]
  },
  {
   "cell_type": "markdown",
   "metadata": {},
   "source": [
    "The default technique used to make those holes is the `HoleMakerBounded` technique."
   ]
  },
  {
   "cell_type": "code",
   "execution_count": null,
   "metadata": {},
   "outputs": [
    {
     "data": {
      "text/markdown": [
       "---\n",
       "\n",
       "### CutMixResizeMix.before_batch\n",
       "\n",
       ">      CutMixResizeMix.before_batch ()\n",
       "\n",
       "Applies the CutMixResizeMix technique (fills a hole with the whole resized image)."
      ],
      "text/plain": [
       "---\n",
       "\n",
       "### CutMixResizeMix.before_batch\n",
       "\n",
       ">      CutMixResizeMix.before_batch ()\n",
       "\n",
       "Applies the CutMixResizeMix technique (fills a hole with the whole resized image)."
      ]
     },
     "execution_count": null,
     "metadata": {},
     "output_type": "execute_result"
    }
   ],
   "source": [
    "show_doc(CutMixResizeMix.before_batch)"
   ]
  },
  {
   "cell_type": "code",
   "execution_count": null,
   "metadata": {},
   "outputs": [],
   "source": [
    "#| hide\n",
    "import nbdev\n",
    "nbdev.nbdev_export()"
   ]
  }
 ],
 "metadata": {
  "kernelspec": {
   "display_name": "Python 3 (ipykernel)",
   "language": "python",
   "name": "python3"
  }
 },
 "nbformat": 4,
 "nbformat_minor": 4
}
