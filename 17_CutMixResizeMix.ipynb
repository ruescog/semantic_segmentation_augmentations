{
 "cells": [
  {
   "cell_type": "markdown",
   "metadata": {},
   "source": [
    "# CutMixResizeMix"
   ]
  },
  {
   "cell_type": "code",
   "execution_count": null,
   "metadata": {},
   "outputs": [],
   "source": [
    "#| default_exp cutmixresizemix"
   ]
  },
  {
   "cell_type": "code",
   "execution_count": null,
   "metadata": {},
   "outputs": [],
   "source": [
    "#| export\n",
    "from semantic_segmentation_augmentations.holemakertechnique import *\n",
    "from semantic_segmentation_augmentations.holemakerbounded import *\n",
    "from semantic_segmentation_augmentations.holesfilling import *\n",
    "import numpy as np\n",
    "import random\n",
    "import cv2\n",
    "from fastai.basics import *"
   ]
  },
  {
   "cell_type": "code",
   "execution_count": null,
   "metadata": {},
   "outputs": [],
   "source": [
    "#| hide\n",
    "from nbdev.showdoc import *\n",
    "from fastcore.utils import *"
   ]
  },
  {
   "cell_type": "code",
   "execution_count": null,
   "metadata": {},
   "outputs": [],
   "source": [
    "#| export\n",
    "class CutMixResizeMix(HolesFilling):\n",
    "    \"Defines the amount of holes, the technique used to make them and the probability of apply the technique.\"\n",
    "    def __init__(self,\n",
    "                 holes_num = 1, # The amount of holes to make.\n",
    "                 hole_maker: \"HoleMakerTechnique\" = None, # The strategy used to make the holes.\n",
    "                 p = 1.0): # The probability of applying this technique.\n",
    "        hole_maker = hole_maker if hole_maker else HoleMakerBounded(hole_size = (64, 64))\n",
    "        super().__init__(hole_maker)\n",
    "        self.holes_num = holes_num\n",
    "        self.p = p\n",
    "\n",
    "    def before_batch(self):\n",
    "        \"Applies the CutMixResizeMix technique (fills a hole with the whole resized image).\"\n",
    "        if random.random() < self.p:\n",
    "            for image, mask in zip(self.x, self.y):\n",
    "                for _ in range(self.holes_num):\n",
    "                    xhole, yhole = self.make_hole(mask)\n",
    "                    # It is needed to permute the image because opencv works with a (H,W,C) format\n",
    "                    sub_image, sub_mask = image.permute(1, 2, 0), mask.transpose(1, 0)\n",
    "                    hole_size = self.hole_maker.hole_size\n",
    "                    sub_image = TensorBase(cv2.resize(np.array(sub_image.cpu()), hole_size))\n",
    "                    # It is needed to interpolate the integers without transforming them into floats\n",
    "                    sub_mask = TensorBase(cv2.resize(np.array(sub_mask.cpu()), hole_size, interpolation = cv2.INTER_LINEAR_EXACT))\n",
    "                    sub_image, sub_mask = sub_image.permute(2, 0, 1), sub_mask.transpose(1, 0)\n",
    "                    self.fill_hole(image, mask, xhole, yhole, [sub_image, sub_mask])"
   ]
  },
  {
   "cell_type": "markdown",
   "metadata": {},
   "source": [
    "The default technique used to make those holes is the `HoleMakerBounded` technique."
   ]
  },
  {
   "cell_type": "code",
   "execution_count": null,
   "metadata": {},
   "outputs": [
    {
     "data": {
      "text/markdown": [
       "---\n",
       "\n",
       "### CutMixResizeMix.before_batch\n",
       "\n",
       ">      CutMixResizeMix.before_batch ()\n",
       "\n",
       "Applies the CutMixResizeMix technique (fills a hole with the whole resized image)."
      ],
      "text/plain": [
       "---\n",
       "\n",
       "### CutMixResizeMix.before_batch\n",
       "\n",
       ">      CutMixResizeMix.before_batch ()\n",
       "\n",
       "Applies the CutMixResizeMix technique (fills a hole with the whole resized image)."
      ]
     },
     "execution_count": null,
     "metadata": {},
     "output_type": "execute_result"
    }
   ],
   "source": [
    "show_doc(CutMixResizeMix.before_batch)"
   ]
  },
  {
   "cell_type": "code",
   "execution_count": null,
   "metadata": {},
   "outputs": [],
   "source": [
    "#| hide\n",
    "import nbdev\n",
    "nbdev.nbdev_export()"
   ]
  }
 ],
 "metadata": {
  "kernelspec": {
   "display_name": "Python 3 (ipykernel)",
   "language": "python",
   "name": "python3"
  }
 },
 "nbformat": 4,
 "nbformat_minor": 4
}
