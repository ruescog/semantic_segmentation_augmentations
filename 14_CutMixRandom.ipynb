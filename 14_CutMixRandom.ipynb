{
 "cells": [
  {
   "cell_type": "markdown",
   "metadata": {},
   "source": [
    "# CutMixRandom"
   ]
  },
  {
   "cell_type": "code",
   "execution_count": null,
   "metadata": {},
   "outputs": [],
   "source": [
    "#| default_exp cutmixrandom"
   ]
  },
  {
   "cell_type": "code",
   "execution_count": null,
   "metadata": {},
   "outputs": [],
   "source": [
    "#| export\n",
    "from semantic_segmentation_augmentations.holemakertechnique import *\n",
    "from semantic_segmentation_augmentations.holemakerrandom import *\n",
    "from semantic_segmentation_augmentations.holesfilling import *\n",
    "import numpy as np\n",
    "import random"
   ]
  },
  {
   "cell_type": "code",
   "execution_count": null,
   "metadata": {},
   "outputs": [],
   "source": [
    "#| hide\n",
    "from nbdev.showdoc import *\n",
    "from fastcore.utils import *"
   ]
  },
  {
   "cell_type": "code",
   "execution_count": null,
   "metadata": {},
   "outputs": [],
   "source": [
    "#| export\n",
    "class CutMixRandom(HolesFilling):\n",
    "    \"Defines the amount of holes, the technique used to make them and the probability of apply the technique.\"\n",
    "    def __init__(self,\n",
    "                 holes_num = 1, # The amount of holes to make.\n",
    "                 hole_maker: \"HoleMakerTechnique\" = None, # The strategy used to make the holes.\n",
    "                 p = 1.0): # The probability of applying this technique.\n",
    "        super().__init__(hole_maker)\n",
    "        self.holes_num = holes_num\n",
    "        self.p = p\n",
    "\n",
    "    def before_batch(self):\n",
    "        \"Applies the CutMix technique.\"\n",
    "        if random.random() < self.p:\n",
    "            for index, (image, mask) in enumerate(zip(self.x, self.y)):\n",
    "                for _ in range(self.holes_num):\n",
    "                    rand = random.randint(0, image.shape[0])\n",
    "                    other_image, other_mask = self.x[rand], self.y[rand]\n",
    "                    xhole, yhole = self.make_hole(mask)\n",
    "                    sub_image, sub_mask = other_image[:, yhole, xhole], other_mask[yhole, xhole]\n",
    "                    self.fill_hole(image, mask, xhole, yhole, [sub_image, sub_mask])"
   ]
  },
  {
   "cell_type": "markdown",
   "metadata": {},
   "source": [
    "The default technique used to make those holes is the `HoleMakerRandom` technique."
   ]
  },
  {
   "cell_type": "code",
   "execution_count": null,
   "metadata": {},
   "outputs": [
    {
     "data": {
      "text/markdown": [
       "---\n",
       "\n",
       "### CutMixRandom.before_batch\n",
       "\n",
       ">      CutMixRandom.before_batch ()\n",
       "\n",
       "Applies the CutMix technique."
      ],
      "text/plain": [
       "---\n",
       "\n",
       "### CutMixRandom.before_batch\n",
       "\n",
       ">      CutMixRandom.before_batch ()\n",
       "\n",
       "Applies the CutMix technique."
      ]
     },
     "execution_count": null,
     "metadata": {},
     "output_type": "execute_result"
    }
   ],
   "source": [
    "show_doc(CutMixRandom.before_batch)"
   ]
  },
  {
   "cell_type": "code",
   "execution_count": null,
   "metadata": {},
   "outputs": [],
   "source": [
    "#| hide\n",
    "import nbdev\n",
    "nbdev.nbdev_export()"
   ]
  }
 ],
 "metadata": {
  "kernelspec": {
   "display_name": "Python 3 (ipykernel)",
   "language": "python",
   "name": "python3"
  }
 },
 "nbformat": 4,
 "nbformat_minor": 4
}
