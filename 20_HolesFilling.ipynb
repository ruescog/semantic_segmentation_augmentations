{
 "cells": [
  {
   "cell_type": "markdown",
   "metadata": {},
   "source": [
    "# HolesFilling\n",
    "\n",
    "> The `HolesFilling` components define how to fill the selected region in an image and mask."
   ]
  },
  {
   "cell_type": "code",
   "execution_count": null,
   "metadata": {},
   "outputs": [],
   "source": [
    "#| default_exp holesfilling"
   ]
  },
  {
   "cell_type": "code",
   "execution_count": null,
   "metadata": {},
   "outputs": [],
   "source": [
    "#| export\n",
    "from semantic_segmentation_augmentations.iholesfilling import HolesFilling\n",
    "from semantic_segmentation_augmentations.cutoutrandom import CutOutRandom\n",
    "from semantic_segmentation_augmentations.cutoutsemantic import CutOutSemantic\n",
    "from semantic_segmentation_augmentations.cutouthideandseek import CutOutHideAndSeek\n",
    "from semantic_segmentation_augmentations.cutmixrandom import CutMixRandom\n",
    "from semantic_segmentation_augmentations.cutmixsemantic import CutMixSemantic\n",
    "from semantic_segmentation_augmentations.cutmixricap import CutMixRICAP\n",
    "from semantic_segmentation_augmentations.cutmixresizemix import CutMixResizeMix\n",
    "from semantic_segmentation_augmentations.carvemix import CarveMix"
   ]
  },
  {
   "cell_type": "code",
   "execution_count": null,
   "metadata": {},
   "outputs": [],
   "source": [
    "#| hide\n",
    "import nbdev\n",
    "nbdev.nbdev_export()"
   ]
  }
 ],
 "metadata": {
  "kernelspec": {
   "display_name": "Python [conda env:.conda-visionmodelsevaluation]",
   "language": "python",
   "name": "conda-env-.conda-visionmodelsevaluation-py"
  }
 },
 "nbformat": 4,
 "nbformat_minor": 4
}
