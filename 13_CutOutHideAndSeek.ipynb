{
 "cells": [
  {
   "cell_type": "markdown",
   "metadata": {},
   "source": [
    "# CutOutHideAndSeek"
   ]
  },
  {
   "cell_type": "code",
   "execution_count": 3,
   "metadata": {},
   "outputs": [],
   "source": [
    "#| default_exp CutOutHideAndSeek"
   ]
  },
  {
   "cell_type": "code",
   "execution_count": 2,
   "metadata": {},
   "outputs": [],
   "source": [
    "#| export\n",
    "from semantic_segmentation_augmentations.HoleMakerTechnique import *\n",
    "from semantic_segmentation_augmentations.HoleMakerPoint import *\n",
    "from semantic_segmentation_augmentations.HolesFilling import *\n",
    "import numpy as np"
   ]
  },
  {
   "cell_type": "code",
   "execution_count": 3,
   "metadata": {},
   "outputs": [],
   "source": [
    "#| hide\n",
    "from nbdev.showdoc import *\n",
    "from fastcore.utils import *"
   ]
  },
  {
   "cell_type": "code",
   "execution_count": 4,
   "metadata": {},
   "outputs": [],
   "source": [
    "#| export\n",
    "class CutOutHideAndSeek(HolesFilling):\n",
    "    \"Defines the amount of holes, the probability of deactivation, the technique used to make them and the probability of apply the technique.\"\n",
    "    def __init__(self,\n",
    "                 deactivation_p = 0.1, # The probability of deactivate a region.\n",
    "                 hole_maker: \"HoleMakerTechnique\" = None, # The strategy used to make the holes.\n",
    "                 p = 1.0): # The probability of applying this technique.\n",
    "        hole_maker = hole_maker if hole_maker else HoleMakerPoint()\n",
    "        super().__init__(hole_maker)\n",
    "        self.deactivation_p = deactivation_p\n",
    "        self.p = p\n",
    "\n",
    "    def before_batch(self):\n",
    "        \"Applies the CutOut Hide & Seek technique (divides the image into a grid and deactivates some portions with a determinated probability).\"\n",
    "        if random() < self.p:\n",
    "            for image, mask in zip(self.x, self.y):\n",
    "                shape = image.shape[1:]\n",
    "                for randy in range(0, shape[0], self.hole_maker.hole_size[0]):\n",
    "                    for randx in range(0, shape[1], self.hole_maker.hole_size[1]):\n",
    "                        if random() < self.deactivation_p:\n",
    "                            self.hole_maker.x = randx\n",
    "                            self.hole_maker.y = randy\n",
    "                            xhole, yhole = self.make_hole(mask)\n",
    "                            self.fill_hole(image, mask, xhole, yhole, [torch.min(image), 0])"
   ]
  },
  {
   "cell_type": "markdown",
   "metadata": {},
   "source": [
    "The default technique used to make those holes is the `HoleMakerPoint` technique."
   ]
  },
  {
   "cell_type": "code",
   "execution_count": 10,
   "metadata": {},
   "outputs": [
    {
     "data": {
      "text/markdown": [
       "---\n",
       "\n",
       "### CutOutHideAndSeek.before_batch\n",
       "\n",
       ">      CutOutHideAndSeek.before_batch ()\n",
       "\n",
       "Applies the CutOut Hide & Seek technique (divide the image in a grid and deactivate some portions with a determinated probability)."
      ],
      "text/plain": [
       "---\n",
       "\n",
       "### CutOutHideAndSeek.before_batch\n",
       "\n",
       ">      CutOutHideAndSeek.before_batch ()\n",
       "\n",
       "Applies the CutOut Hide & Seek technique (divide the image in a grid and deactivate some portions with a determinated probability)."
      ]
     },
     "execution_count": 10,
     "metadata": {},
     "output_type": "execute_result"
    }
   ],
   "source": [
    "show_doc(CutOutHideAndSeek.before_batch)"
   ]
  },
  {
   "cell_type": "code",
   "execution_count": 6,
   "metadata": {},
   "outputs": [],
   "source": [
    "#| hide\n",
    "import nbdev\n",
    "nbdev.nbdev_export()"
   ]
  }
 ],
 "metadata": {
  "kernelspec": {
   "display_name": "Python 3 (ipykernel)",
   "language": "python",
   "name": "python3"
  },
  "language_info": {
   "codemirror_mode": {
    "name": "ipython",
    "version": 3
   },
   "file_extension": ".py",
   "mimetype": "text/x-python",
   "name": "python",
   "nbconvert_exporter": "python",
   "pygments_lexer": "ipython3",
   "version": "3.8.10"
  }
 },
 "nbformat": 4,
 "nbformat_minor": 4
}
