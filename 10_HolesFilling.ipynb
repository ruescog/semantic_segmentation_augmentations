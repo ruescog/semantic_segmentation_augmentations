{
 "cells": [
  {
   "cell_type": "markdown",
   "metadata": {},
   "source": [
    "# HolesFilling\n",
    "\n",
    "> The `HolesFilling` components defines how to fill the selected region in an image and mask."
   ]
  },
  {
   "cell_type": "code",
   "execution_count": null,
   "metadata": {},
   "outputs": [],
   "source": [
    "#| default_exp HolesFilling"
   ]
  },
  {
   "cell_type": "code",
   "execution_count": null,
   "metadata": {},
   "outputs": [],
   "source": [
    "#| export\n",
    "from semantic_segmentation_augmentations.HoleMakerTechnique import *\n",
    "from semantic_segmentation_augmentations.HoleMakerRandom import *\n",
    "import numpy as np\n",
    "from fastai.vision.all import Callback\n",
    "from typing import Union, Callable"
   ]
  },
  {
   "cell_type": "code",
   "execution_count": null,
   "metadata": {},
   "outputs": [],
   "source": [
    "#| hide\n",
    "from nbdev.showdoc import *\n",
    "from fastcore.utils import *"
   ]
  },
  {
   "cell_type": "markdown",
   "metadata": {},
   "source": [
    "This is an abstract class that can not be used directly. In order to use it, it is necessary to use its inherited classes."
   ]
  },
  {
   "cell_type": "code",
   "execution_count": null,
   "metadata": {},
   "outputs": [],
   "source": [
    "#| export\n",
    "class HolesFilling(Callback):\n",
    "    \"Defines the strategy used to make the holes.\"\n",
    "    def __init__(self,\n",
    "                 hole_maker: \"HoleMakerTechnique\" = None): # The strategy used to make the holes.\n",
    "\n",
    "        self.hole_maker = hole_maker if hole_maker else HoleMakerRandom()\n",
    "\n",
    "    def make_hole(self,\n",
    "                  mask): # The mask associated with the image where the hole is going to be made.\n",
    "        \"Makes the holes in the mask.\"\n",
    "        return self.hole_maker.get_hole(mask)\n",
    "\n",
    "    def fill_hole(self,\n",
    "                  image: np.ndarray, # The image where the hole is going to be made.\n",
    "                  mask: np.ndarray, # The mask associated with the image where the hole is going to be made.\n",
    "                  xhole: slice, # The slice that defines the x-region where the hole is.\n",
    "                  yhole: slice, # The slice that defines the y-region where the hole is.\n",
    "                  fill_values: Union[Callable[[np.ndarray], np.ndarray], float]): # The value to fill the hole (a function to apply or a constant).\n",
    "        \"Fills a specific hole with something.\"\n",
    "        image[:, yhole, xhole] = fill_values[0](image) if callable(fill_values[0]) else fill_values[0]\n",
    "        mask[yhole, xhole] = fill_values[1](mask) if callable(fill_values[1]) else fill_values[1]"
   ]
  },
  {
   "cell_type": "markdown",
   "metadata": {},
   "source": [
    "The default technique used to make those holes is the `HoleMakerRandom` technique."
   ]
  },
  {
   "cell_type": "code",
   "execution_count": null,
   "metadata": {},
   "outputs": [
    {
     "data": {
      "text/markdown": [
       "---\n",
       "\n",
       "[source](https://github.com/ruescog/semantic_segmentation_augmentations/blob/master/semantic_segmentation_augmentations/HolesFilling.py#L17){target=\"_blank\" style=\"float:right; font-size:smaller\"}\n",
       "\n",
       "### HolesFilling.make_hole\n",
       "\n",
       ">      HolesFilling.make_hole (mask)\n",
       "\n",
       "|    | **Details** |\n",
       "| -- | ----------- |\n",
       "| mask | The mask associated with the image where the hole is going to be made. |"
      ],
      "text/plain": [
       "---\n",
       "\n",
       "[source](https://github.com/ruescog/semantic_segmentation_augmentations/blob/master/semantic_segmentation_augmentations/HolesFilling.py#L17){target=\"_blank\" style=\"float:right; font-size:smaller\"}\n",
       "\n",
       "### HolesFilling.make_hole\n",
       "\n",
       ">      HolesFilling.make_hole (mask)\n",
       "\n",
       "|    | **Details** |\n",
       "| -- | ----------- |\n",
       "| mask | The mask associated with the image where the hole is going to be made. |"
      ]
     },
     "execution_count": null,
     "metadata": {},
     "output_type": "execute_result"
    }
   ],
   "source": [
    "show_doc(HolesFilling.make_hole)"
   ]
  },
  {
   "cell_type": "markdown",
   "metadata": {},
   "source": [
    "The `make_hole` function calls the `get_hole` function of the `HoleMakerTechnique` used."
   ]
  },
  {
   "cell_type": "code",
   "execution_count": null,
   "metadata": {},
   "outputs": [
    {
     "data": {
      "text/markdown": [
       "---\n",
       "\n",
       "[source](https://github.com/ruescog/semantic_segmentation_augmentations/blob/master/semantic_segmentation_augmentations/HolesFilling.py#L21){target=\"_blank\" style=\"float:right; font-size:smaller\"}\n",
       "\n",
       "### HolesFilling.fill_hole\n",
       "\n",
       ">      HolesFilling.fill_hole (image:numpy.ndarray, mask:numpy.ndarray,\n",
       ">                              xhole:slice, yhole:slice, fill_values:Union[Calla\n",
       ">                              ble[[numpy.ndarray],numpy.ndarray],float])\n",
       "\n",
       "|    | **Type** | **Details** |\n",
       "| -- | -------- | ----------- |\n",
       "| image | ndarray | The image where the hole is going to be made. |\n",
       "| mask | ndarray | The mask associated with the image where the hole is going to be made. |\n",
       "| xhole | slice | The slice that defines the x-region where the hole is. |\n",
       "| yhole | slice | The slice that defines the x-region where the hole is. |\n",
       "| fill_values | typing.Union[typing.Callable[[numpy.ndarray], numpy.ndarray], float] | The value to fill the hole (a function to apply or a constant). |"
      ],
      "text/plain": [
       "---\n",
       "\n",
       "[source](https://github.com/ruescog/semantic_segmentation_augmentations/blob/master/semantic_segmentation_augmentations/HolesFilling.py#L21){target=\"_blank\" style=\"float:right; font-size:smaller\"}\n",
       "\n",
       "### HolesFilling.fill_hole\n",
       "\n",
       ">      HolesFilling.fill_hole (image:numpy.ndarray, mask:numpy.ndarray,\n",
       ">                              xhole:slice, yhole:slice, fill_values:Union[Calla\n",
       ">                              ble[[numpy.ndarray],numpy.ndarray],float])\n",
       "\n",
       "|    | **Type** | **Details** |\n",
       "| -- | -------- | ----------- |\n",
       "| image | ndarray | The image where the hole is going to be made. |\n",
       "| mask | ndarray | The mask associated with the image where the hole is going to be made. |\n",
       "| xhole | slice | The slice that defines the x-region where the hole is. |\n",
       "| yhole | slice | The slice that defines the x-region where the hole is. |\n",
       "| fill_values | typing.Union[typing.Callable[[numpy.ndarray], numpy.ndarray], float] | The value to fill the hole (a function to apply or a constant). |"
      ]
     },
     "execution_count": null,
     "metadata": {},
     "output_type": "execute_result"
    }
   ],
   "source": [
    "show_doc(HolesFilling.fill_hole)"
   ]
  },
  {
   "cell_type": "markdown",
   "metadata": {},
   "source": [
    "The `fill_values` parameter defines what is used to fill the hole. It can be a callable (another function that is applied to the image and to the mask to select something inside them) or a constant value."
   ]
  },
  {
   "cell_type": "code",
   "execution_count": null,
   "metadata": {},
   "outputs": [],
   "source": [
    "#| hide\n",
    "import nbdev\n",
    "nbdev.nbdev_export()"
   ]
  }
 ],
 "metadata": {
  "kernelspec": {
   "display_name": "Python 3 (ipykernel)",
   "language": "python",
   "name": "python3"
  }
 },
 "nbformat": 4,
 "nbformat_minor": 4
}
