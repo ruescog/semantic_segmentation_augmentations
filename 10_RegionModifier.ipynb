{
 "cells": [
  {
   "cell_type": "markdown",
   "metadata": {},
   "source": [
    "# RegionModifier\n",
    "\n",
    "> The `RegionModifier` component defines how to apply traditional augments to the regions selected to be augmented."
   ]
  },
  {
   "cell_type": "code",
   "execution_count": null,
   "metadata": {},
   "outputs": [],
   "source": [
    "#| default_exp regionmodifier"
   ]
  },
  {
   "cell_type": "code",
   "execution_count": null,
   "metadata": {},
   "outputs": [],
   "source": [
    "#| export\n",
    "import numpy as np\n",
    "from functools import reduce\n",
    "from albumentations.core.composition import Compose"
   ]
  },
  {
   "cell_type": "code",
   "execution_count": null,
   "metadata": {},
   "outputs": [],
   "source": [
    "#| hide\n",
    "from nbdev.showdoc import *\n",
    "from fastcore.utils import *"
   ]
  },
  {
   "cell_type": "code",
   "execution_count": null,
   "metadata": {},
   "outputs": [],
   "source": [
    "#| export\n",
    "class RegionModifier():\n",
    "    def __init__(self,\n",
    "                 taug: Compose = None): # The Compose of the transformations to be applied.\n",
    "        \"Defines the traditional augmentations to be applied.\"\n",
    "        self.taug = taug\n",
    "        \n",
    "    def apply(self,\n",
    "              image_region: np.ndarray, # The region of the image to be augmented.\n",
    "              mask_region: np.ndarray # The region of the mask to be augmented.\n",
    "        ):\n",
    "        \"Applies the augmnentations to the regions. Those augmnetations can not modify their shapes.\"\n",
    "        if self.taug: # and reduce(lambda old, new: old * new, mask_region.shape, 1) != 0:\n",
    "            transformation = self.taug(image = image_region, mask = mask_region)\n",
    "            image, mask = transformation[\"image\"], transformation[\"mask\"]\n",
    "        else:\n",
    "            image, mask = image_region, mask_region\n",
    "        \n",
    "        return image, mask"
   ]
  },
  {
   "cell_type": "code",
   "execution_count": null,
   "metadata": {},
   "outputs": [
    {
     "data": {
      "text/markdown": [
       "---\n",
       "\n",
       "[source](https://github.com/ruescog/semantic_segmentation_augmentations/blob/master/semantic_segmentation_augmentations/regionmodifier.py#L18){target=\"_blank\" style=\"float:right; font-size:smaller\"}\n",
       "\n",
       "### RegionModifier.apply\n",
       "\n",
       ">      RegionModifier.apply (image_region:numpy.ndarray,\n",
       ">                            mask_region:numpy.ndarray)\n",
       "\n",
       "Applies the augmnentations to the regions. Those augmnetations can not modify their shapes.\n",
       "\n",
       "|    | **Type** | **Details** |\n",
       "| -- | -------- | ----------- |\n",
       "| image_region | ndarray | The region of the image to be augmented. |\n",
       "| mask_region | ndarray | The region of the mask to be augmented. |"
      ],
      "text/plain": [
       "---\n",
       "\n",
       "[source](https://github.com/ruescog/semantic_segmentation_augmentations/blob/master/semantic_segmentation_augmentations/regionmodifier.py#L18){target=\"_blank\" style=\"float:right; font-size:smaller\"}\n",
       "\n",
       "### RegionModifier.apply\n",
       "\n",
       ">      RegionModifier.apply (image_region:numpy.ndarray,\n",
       ">                            mask_region:numpy.ndarray)\n",
       "\n",
       "Applies the augmnentations to the regions. Those augmnetations can not modify their shapes.\n",
       "\n",
       "|    | **Type** | **Details** |\n",
       "| -- | -------- | ----------- |\n",
       "| image_region | ndarray | The region of the image to be augmented. |\n",
       "| mask_region | ndarray | The region of the mask to be augmented. |"
      ]
     },
     "execution_count": null,
     "metadata": {},
     "output_type": "execute_result"
    }
   ],
   "source": [
    "show_doc(RegionModifier.apply)"
   ]
  },
  {
   "cell_type": "code",
   "execution_count": null,
   "metadata": {},
   "outputs": [],
   "source": [
    "#| hide\n",
    "import nbdev\n",
    "nbdev.nbdev_export()"
   ]
  }
 ],
 "metadata": {
  "kernelspec": {
   "display_name": "Python [conda env:.conda-visionmodelsevaluation]",
   "language": "python",
   "name": "conda-env-.conda-visionmodelsevaluation-py"
  }
 },
 "nbformat": 4,
 "nbformat_minor": 4
}
