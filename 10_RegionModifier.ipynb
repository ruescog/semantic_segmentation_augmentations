{
 "cells": [
  {
   "cell_type": "markdown",
   "metadata": {},
   "source": [
    "# RegionModifier\n",
    "\n",
    "> The `RegionModifier` component define how to apply traditional augments to the regions selected to be augmented."
   ]
  },
  {
   "cell_type": "code",
   "execution_count": 1,
   "metadata": {},
   "outputs": [],
   "source": [
    "#| default_exp regionmodifier"
   ]
  },
  {
   "cell_type": "code",
   "execution_count": 3,
   "metadata": {},
   "outputs": [],
   "source": [
    "#| export\n",
    "import numpy as np\n",
    "from albumentations.core.composition import Compose"
   ]
  },
  {
   "cell_type": "code",
   "execution_count": null,
   "metadata": {},
   "outputs": [],
   "source": [
    "#| hide\n",
    "from nbdev.showdoc import *\n",
    "from fastcore.utils import *"
   ]
  },
  {
   "cell_type": "code",
   "execution_count": 4,
   "metadata": {},
   "outputs": [],
   "source": [
    "#| export\n",
    "class RegionModifier():\n",
    "    def __init__(self,\n",
    "                 taug: Compose = None): # The Compose of the transformations to be applied.\n",
    "        \"Defines the traditional augmentations to be applied.\"\n",
    "        self.taug = taug\n",
    "        \n",
    "    def apply(self,\n",
    "              image_region: np.ndarray, # The region of the image to be augmented.\n",
    "              mask_region: np.ndarray # The region of the mask to be augmented.\n",
    "        ):\n",
    "        \"Applies the augmnentations to the regions. Those augmnetations can not modify their shapes.\"\n",
    "        if self.taug:\n",
    "            transformation = self.taug(image = image_region, mask = mask_region)\n",
    "            image, mask = transformation[\"image\"], transformation[\"mask\"]\n",
    "        else:\n",
    "            image, mask = image_region, mask_region\n",
    "        return image, mask"
   ]
  },
  {
   "cell_type": "code",
   "execution_count": null,
   "metadata": {},
   "outputs": [
    {
     "data": {
      "text/markdown": [
       "---\n",
       "\n",
       "### HoleMakerTechnique.get_hole\n",
       "\n",
       ">      HoleMakerTechnique.get_hole (mask:numpy.ndarray)\n",
       "\n",
       "Defines how to make the hole.\n",
       "\n",
       "|    | **Type** | **Details** |\n",
       "| -- | -------- | ----------- |\n",
       "| mask | ndarray | The mask associated with the image where the hole is going to be made. |"
      ],
      "text/plain": [
       "---\n",
       "\n",
       "### HoleMakerTechnique.get_hole\n",
       "\n",
       ">      HoleMakerTechnique.get_hole (mask:numpy.ndarray)\n",
       "\n",
       "Defines how to make the hole.\n",
       "\n",
       "|    | **Type** | **Details** |\n",
       "| -- | -------- | ----------- |\n",
       "| mask | ndarray | The mask associated with the image where the hole is going to be made. |"
      ]
     },
     "execution_count": null,
     "metadata": {},
     "output_type": "execute_result"
    }
   ],
   "source": [
    "show_doc(RegionModifier.apply)"
   ]
  },
  {
   "cell_type": "code",
   "execution_count": null,
   "metadata": {},
   "outputs": [],
   "source": [
    "#| hide\n",
    "import nbdev\n",
    "nbdev.nbdev_export()"
   ]
  }
 ],
 "metadata": {
  "kernelspec": {
   "display_name": "Python 3 (ipykernel)",
   "language": "python",
   "name": "python3"
  },
  "language_info": {
   "codemirror_mode": {
    "name": "ipython",
    "version": 3
   },
   "file_extension": ".py",
   "mimetype": "text/x-python",
   "name": "python",
   "nbconvert_exporter": "python",
   "pygments_lexer": "ipython3",
   "version": "3.8.13"
  }
 },
 "nbformat": 4,
 "nbformat_minor": 4
}
