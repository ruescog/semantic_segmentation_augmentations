{
 "cells": [
  {
   "cell_type": "markdown",
   "id": "ef5a0699",
   "metadata": {},
   "source": [
    "# HoleMakerPoint"
   ]
  },
  {
   "cell_type": "code",
   "execution_count": null,
   "id": "917dafd6",
   "metadata": {},
   "outputs": [],
   "source": [
    "#| default_exp holemakerpoint"
   ]
  },
  {
   "cell_type": "markdown",
   "id": "4363dde9",
   "metadata": {},
   "source": [
    "`HoleMakerPoint` selects the region to be replaced using a reference point. The region is expanded from this point depending on its size. When using this technique, it is needed to manually modify the `x` and `y` attributes for the `HoleMakerPoint`."
   ]
  },
  {
   "cell_type": "code",
   "execution_count": null,
   "id": "b1500553",
   "metadata": {},
   "outputs": [],
   "source": [
    "#| export\n",
    "# library\n",
    "from semantic_segmentation_augmentations.iholemakertechnique import HoleMakerTechnique\n",
    "\n",
    "# others\n",
    "import numpy as np"
   ]
  },
  {
   "cell_type": "code",
   "execution_count": null,
   "id": "fdb5a83e",
   "metadata": {},
   "outputs": [],
   "source": [
    "#| hide\n",
    "from nbdev.showdoc import *"
   ]
  },
  {
   "cell_type": "code",
   "execution_count": null,
   "id": "055bbcf0",
   "metadata": {},
   "outputs": [],
   "source": [
    "#| export\n",
    "class HoleMakerPoint(HoleMakerTechnique):\n",
    "    def __init__(self,\n",
    "                 hole_size: tuple = (100, 100)): # The size of the hole in a tuple like (y, x).\n",
    "        \"Defines the size of the hole.\"\n",
    "        super().__init__(hole_size)\n",
    "        self.x = 0\n",
    "        self.y = 0\n",
    "\n",
    "    def get_hole(self,\n",
    "             mask: np.ndarray): # The mask associated with the image where the hole is going to be made.\n",
    "        \"Defines how to make the hole.\"\n",
    "        return [slice(self.x, self.x + self.hole_size[1]), slice(self.y, self.y + self.hole_size[0])]"
   ]
  },
  {
   "cell_type": "code",
   "execution_count": null,
   "id": "ed4d7bc8",
   "metadata": {},
   "outputs": [
    {
     "data": {
      "text/markdown": [
       "---\n",
       "\n",
       "### HoleMakerPoint.get_hole\n",
       "\n",
       ">      HoleMakerPoint.get_hole (mask:numpy.ndarray)\n",
       "\n",
       "Defines how to make the hole.\n",
       "\n",
       "|    | **Type** | **Details** |\n",
       "| -- | -------- | ----------- |\n",
       "| mask | ndarray | The mask associated with the image where the hole is going to be made. |"
      ],
      "text/plain": [
       "---\n",
       "\n",
       "### HoleMakerPoint.get_hole\n",
       "\n",
       ">      HoleMakerPoint.get_hole (mask:numpy.ndarray)\n",
       "\n",
       "Defines how to make the hole.\n",
       "\n",
       "|    | **Type** | **Details** |\n",
       "| -- | -------- | ----------- |\n",
       "| mask | ndarray | The mask associated with the image where the hole is going to be made. |"
      ]
     },
     "execution_count": null,
     "metadata": {},
     "output_type": "execute_result"
    }
   ],
   "source": [
    "show_doc(HoleMakerPoint.get_hole)"
   ]
  },
  {
   "cell_type": "code",
   "execution_count": null,
   "id": "1235c9a9",
   "metadata": {},
   "outputs": [],
   "source": [
    "#| hide\n",
    "import nbdev\n",
    "nbdev.nbdev_export()"
   ]
  }
 ],
 "metadata": {
  "kernelspec": {
   "display_name": "Python 3 (ipykernel)",
   "language": "python",
   "name": "python3"
  }
 },
 "nbformat": 4,
 "nbformat_minor": 5
}
