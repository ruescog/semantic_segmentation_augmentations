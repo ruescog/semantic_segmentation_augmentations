{
 "cells": [
  {
   "cell_type": "markdown",
   "metadata": {},
   "source": [
    "# CarveMix"
   ]
  },
  {
   "cell_type": "code",
   "execution_count": null,
   "metadata": {},
   "outputs": [],
   "source": [
    "#| default_exp carvemix"
   ]
  },
  {
   "cell_type": "code",
   "execution_count": null,
   "metadata": {},
   "outputs": [],
   "source": [
    "#| export\n",
    "# library\n",
    "from semantic_segmentation_augmentations.holemakertechnique import HoleMakerTechnique, HoleMakerROI, HoleMakerBounded\n",
    "from semantic_segmentation_augmentations.regionmodifier import RegionModifier\n",
    "from semantic_segmentation_augmentations.iholesfilling import HolesFilling\n",
    "\n",
    "# others\n",
    "import cv2\n",
    "import random\n",
    "from fastai.basics import *\n",
    "import numpy as np"
   ]
  },
  {
   "cell_type": "code",
   "execution_count": null,
   "metadata": {},
   "outputs": [],
   "source": [
    "#| hide\n",
    "from nbdev.showdoc import *"
   ]
  },
  {
   "cell_type": "code",
   "execution_count": null,
   "metadata": {},
   "outputs": [],
   "source": [
    "#| export\n",
    "class CarveMix(HolesFilling):\n",
    "    \"Defines the amount of holes, the technique used to make them and the probability of apply the technique.\"\n",
    "    def __init__(self,\n",
    "                 holes_num: int = 1, # The amount of holes to make.\n",
    "                 modifier: \"RegionModifier\" = None, # The modifier that defines the traditional augments to apply to the selected regions.\n",
    "                 ROI_class: int = -1, # The class to be used to select the ROI.\n",
    "                 ROI_area: int = 25, # The minimum area to be selected as a ROI.\n",
    "                 delta_ratio: float = None, # The ratio of pixels of the ROI that are going to be used. A ratio of 1 takes all the ROI pixels, a ratio < 1 crops the ROI and a ratio > 1 adds more pixels to the ROI. A None ratio takes a random value [0.9, 1.1) in each usage.\n",
    "                 random_position: bool = False, # Whether the ROI should be added randomly in the image or in the same position it was extracted.\n",
    "                 p: float = 0.5): # The probability of applying this technique.\n",
    "        hole_maker = HoleMakerROI(ROI_class, ROI_area, delta_ratio)\n",
    "        super().__init__(modifier, hole_maker)\n",
    "        self.holes_num = holes_num\n",
    "        self.random_position = random_position\n",
    "        self.p = p\n",
    "\n",
    "    def before_batch(self):\n",
    "        \"Applies the CutMix technique.\"\n",
    "        \n",
    "        if not self.training:\n",
    "            return\n",
    "        \n",
    "        x, y = tensor(self.x).clone(), tensor(self.y).clone() # tensor is defined in fastai.basics\n",
    "        for image, mask in zip(self.x, self.y):\n",
    "            if random.random() < self.p:\n",
    "                for _ in range(self.holes_num):\n",
    "                    rand = random.randint(0, x.shape[0] - 1)\n",
    "                    other_image, other_mask = x[rand], y[rand]\n",
    "                    other_xhole, other_yhole = self.make_hole(other_mask)\n",
    "                    sub_image, sub_mask = other_image[:, other_yhole, other_xhole], other_mask[other_yhole, other_xhole]\n",
    "                    if self.random_position and not other_mask.shape == sub_mask.shape: # if other_mask == sub_mask, a full ROI region is selected and HMBounded can not be used.\n",
    "                        xhole, yhole = HoleMakerBounded(hole_size = sub_mask.shape).get_hole(mask)\n",
    "                    else:\n",
    "                        xhole, yhole = other_xhole, other_yhole\n",
    "\n",
    "                    self.fill_hole(image, mask, xhole, yhole, [sub_image, sub_mask])"
   ]
  },
  {
   "cell_type": "markdown",
   "metadata": {},
   "source": [
    "The `CarveMix` technique is a derivation of the `CutMixRandom` technique with a `HoleMakerRandom` technique.\n",
    "\n",
    "However, `CarveMix` behavior can not be achieved using there techniques together, because of the implementation of the `CutMixRandom` technique, which takes a hole from the image that is been seen by the model instead of another image of the batch. `CarveMix` needs to take another image of the batch to properly work.\n",
    "\n",
    "This technique was defined and implemented [here](https://rdcu.be/cXH2J).\n",
    "\n",
    "This technique has been generalized to be implemented in this library, in order to be usefull in multiple class segmentation too."
   ]
  },
  {
   "cell_type": "code",
   "execution_count": null,
   "metadata": {},
   "outputs": [
    {
     "data": {
      "text/markdown": [
       "---\n",
       "\n",
       "### CutMixResizeMix.before_batch\n",
       "\n",
       ">      CutMixResizeMix.before_batch ()\n",
       "\n",
       "Applies the CutMixResizeMix technique (fills a hole with the whole resized image)."
      ],
      "text/plain": [
       "---\n",
       "\n",
       "### CutMixResizeMix.before_batch\n",
       "\n",
       ">      CutMixResizeMix.before_batch ()\n",
       "\n",
       "Applies the CutMixResizeMix technique (fills a hole with the whole resized image)."
      ]
     },
     "execution_count": null,
     "metadata": {},
     "output_type": "execute_result"
    }
   ],
   "source": [
    "show_doc(CarveMix.before_batch)"
   ]
  },
  {
   "cell_type": "code",
   "execution_count": null,
   "metadata": {},
   "outputs": [],
   "source": [
    "#| hide\n",
    "import nbdev\n",
    "nbdev.nbdev_export()"
   ]
  }
 ],
 "metadata": {
  "kernelspec": {
   "display_name": "Python 3 (ipykernel)",
   "language": "python",
   "name": "python3"
  }
 },
 "nbformat": 4,
 "nbformat_minor": 4
}
