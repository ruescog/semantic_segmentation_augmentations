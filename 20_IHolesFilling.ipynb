{
 "cells": [
  {
   "cell_type": "markdown",
   "metadata": {},
   "source": [
    "# HolesFilling\n",
    "\n",
    "> The `HolesFilling` components defines how to fill the selected region in an image and mask."
   ]
  },
  {
   "cell_type": "code",
   "execution_count": null,
   "metadata": {},
   "outputs": [],
   "source": [
    "#| default_exp iholesfilling"
   ]
  },
  {
   "cell_type": "code",
   "execution_count": null,
   "metadata": {},
   "outputs": [],
   "source": [
    "#| export\n",
    "# library\n",
    "from semantic_segmentation_augmentations.holemakertechnique import HoleMakerTechnique, HoleMakerRandom\n",
    "from semantic_segmentation_augmentations.regionmodifier import RegionModifier\n",
    "\n",
    "# others\n",
    "import torch\n",
    "import numpy as np\n",
    "from fastai.vision.all import Callback, TensorBase\n",
    "\n",
    "# typedpython\n",
    "from typing import Union, Callable"
   ]
  },
  {
   "cell_type": "code",
   "execution_count": null,
   "metadata": {},
   "outputs": [],
   "source": [
    "#| hide\n",
    "from nbdev.showdoc import *"
   ]
  },
  {
   "cell_type": "markdown",
   "metadata": {},
   "source": [
    "This is an abstract class that can not be used directly. In order to use it, it is necessary to use its inherited classes."
   ]
  },
  {
   "cell_type": "code",
   "execution_count": null,
   "metadata": {},
   "outputs": [],
   "source": [
    "#| export\n",
    "class HolesFilling(Callback):\n",
    "    \"Defines the strategy used to make the holes.\"\n",
    "    def __init__(self,\n",
    "                 modifier: \"RegionModifier\" = None, # The modifier that defines the traditional augments to apply to the selected regions.\n",
    "                 hole_maker: \"HoleMakerTechnique\" = None # The strategy used to make the holes.\n",
    "        ):\n",
    "        self.modifier = modifier if modifier else RegionModifier()\n",
    "        self.hole_maker = hole_maker if hole_maker else HoleMakerRandom()\n",
    "        self.training = False\n",
    "\n",
    "    def make_hole(self,\n",
    "                  mask): # The mask associated with the image where the hole is going to be made.\n",
    "        \"Makes the holes in the mask.\"\n",
    "        return self.hole_maker.get_hole(mask)\n",
    "\n",
    "    def fill_hole(self,\n",
    "                  image: np.ndarray, # The image where the hole is going to be made.\n",
    "                  mask: np.ndarray, # The mask associated with the image where the hole is going to be made.\n",
    "                  xhole: slice, # The slice that defines the x-region where the hole is.\n",
    "                  yhole: slice, # The slice that defines the y-region where the hole is.\n",
    "                  fill_values: Union[Callable[[np.ndarray], np.ndarray], np.ndarray, float], # The value to fill the hole (a function to apply or a constant).\n",
    "                  transparence: bool = False # Whether the fill_values must be added to the image in a transparent form. fill_value if fill_value else image for each value in fill_values\n",
    "                 ): \n",
    "        \"Fills a specific hole with something.\"\n",
    "        \n",
    "        # If the values are matrixes, we can apply the modifier to them\n",
    "        if isinstance(fill_values[0], TensorBase) and isinstance(fill_values[1], TensorBase):\n",
    "            fill_values = self.modifier.apply(*list(map(lambda array: np.array(array.cpu()), fill_values)))\n",
    "            fill_values = list(map(lambda array: torch.from_numpy(array).float().cuda(), fill_values))\n",
    "    \n",
    "        image[:, yhole, xhole] = torch.where(fill_values[1][np.newaxis, ...] != 0, fill_values[0], image[:, yhole, xhole]) if transparence else fill_values[0]\n",
    "        mask[yhole, xhole] = torch.where(fill_values[1] != 0, fill_values[1], mask[yhole, xhole]) if transparence else fill_values[1]\n",
    "        \n",
    "    # augmentations must only be applied on training set, so we will change the value of 'training' flag before validating to avoid the aplication of the augments.\n",
    "    def before_train(self):\n",
    "        \"Sets the training flag to True\"\n",
    "        self.training = True\n",
    "    \n",
    "    def after_train(self):\n",
    "        \"Sets the training flag to False\"\n",
    "        self.training = False"
   ]
  },
  {
   "cell_type": "markdown",
   "metadata": {},
   "source": [
    "The default technique used to make those holes is the `HoleMakerRandom` technique."
   ]
  },
  {
   "cell_type": "code",
   "execution_count": null,
   "metadata": {},
   "outputs": [
    {
     "data": {
      "text/markdown": [
       "---\n",
       "\n",
       "[source](https://github.com/ruescog/semantic_segmentation_augmentations/blob/master/semantic_segmentation_augmentations/HolesFilling.py#L17){target=\"_blank\" style=\"float:right; font-size:smaller\"}\n",
       "\n",
       "### HolesFilling.make_hole\n",
       "\n",
       ">      HolesFilling.make_hole (mask)\n",
       "\n",
       "|    | **Details** |\n",
       "| -- | ----------- |\n",
       "| mask | The mask associated with the image where the hole is going to be made. |"
      ],
      "text/plain": [
       "---\n",
       "\n",
       "[source](https://github.com/ruescog/semantic_segmentation_augmentations/blob/master/semantic_segmentation_augmentations/HolesFilling.py#L17){target=\"_blank\" style=\"float:right; font-size:smaller\"}\n",
       "\n",
       "### HolesFilling.make_hole\n",
       "\n",
       ">      HolesFilling.make_hole (mask)\n",
       "\n",
       "|    | **Details** |\n",
       "| -- | ----------- |\n",
       "| mask | The mask associated with the image where the hole is going to be made. |"
      ]
     },
     "execution_count": null,
     "metadata": {},
     "output_type": "execute_result"
    }
   ],
   "source": [
    "show_doc(HolesFilling.make_hole)"
   ]
  },
  {
   "cell_type": "markdown",
   "metadata": {},
   "source": [
    "The `make_hole` function calls the `get_hole` function of the `HoleMakerTechnique` used."
   ]
  },
  {
   "cell_type": "code",
   "execution_count": null,
   "metadata": {},
   "outputs": [
    {
     "data": {
      "text/markdown": [
       "---\n",
       "\n",
       "[source](https://github.com/ruescog/semantic_segmentation_augmentations/blob/master/semantic_segmentation_augmentations/HolesFilling.py#L21){target=\"_blank\" style=\"float:right; font-size:smaller\"}\n",
       "\n",
       "### HolesFilling.fill_hole\n",
       "\n",
       ">      HolesFilling.fill_hole (image:numpy.ndarray, mask:numpy.ndarray,\n",
       ">                              xhole:slice, yhole:slice, fill_values:Union[Calla\n",
       ">                              ble[[numpy.ndarray],numpy.ndarray],float])\n",
       "\n",
       "|    | **Type** | **Details** |\n",
       "| -- | -------- | ----------- |\n",
       "| image | ndarray | The image where the hole is going to be made. |\n",
       "| mask | ndarray | The mask associated with the image where the hole is going to be made. |\n",
       "| xhole | slice | The slice that defines the x-region where the hole is. |\n",
       "| yhole | slice | The slice that defines the x-region where the hole is. |\n",
       "| fill_values | typing.Union[typing.Callable[[numpy.ndarray], numpy.ndarray], float] | The value to fill the hole (a function to apply or a constant). |"
      ],
      "text/plain": [
       "---\n",
       "\n",
       "[source](https://github.com/ruescog/semantic_segmentation_augmentations/blob/master/semantic_segmentation_augmentations/HolesFilling.py#L21){target=\"_blank\" style=\"float:right; font-size:smaller\"}\n",
       "\n",
       "### HolesFilling.fill_hole\n",
       "\n",
       ">      HolesFilling.fill_hole (image:numpy.ndarray, mask:numpy.ndarray,\n",
       ">                              xhole:slice, yhole:slice, fill_values:Union[Calla\n",
       ">                              ble[[numpy.ndarray],numpy.ndarray],float])\n",
       "\n",
       "|    | **Type** | **Details** |\n",
       "| -- | -------- | ----------- |\n",
       "| image | ndarray | The image where the hole is going to be made. |\n",
       "| mask | ndarray | The mask associated with the image where the hole is going to be made. |\n",
       "| xhole | slice | The slice that defines the x-region where the hole is. |\n",
       "| yhole | slice | The slice that defines the x-region where the hole is. |\n",
       "| fill_values | typing.Union[typing.Callable[[numpy.ndarray], numpy.ndarray], float] | The value to fill the hole (a function to apply or a constant). |"
      ]
     },
     "execution_count": null,
     "metadata": {},
     "output_type": "execute_result"
    }
   ],
   "source": [
    "show_doc(HolesFilling.fill_hole)"
   ]
  },
  {
   "cell_type": "markdown",
   "metadata": {},
   "source": [
    "The `fill_values` parameter defines what is used to fill the hole. It can be a callable (another function that is applied to the image and to the mask to select something inside them) or a constant value."
   ]
  },
  {
   "cell_type": "code",
   "execution_count": null,
   "metadata": {},
   "outputs": [],
   "source": [
    "#| hide\n",
    "import nbdev\n",
    "nbdev.nbdev_export()"
   ]
  }
 ],
 "metadata": {
  "kernelspec": {
   "display_name": "Python 3 (ipykernel)",
   "language": "python",
   "name": "python3"
  }
 },
 "nbformat": 4,
 "nbformat_minor": 4
}
