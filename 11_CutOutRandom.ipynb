{
 "cells": [
  {
   "cell_type": "markdown",
   "metadata": {},
   "source": [
    "# CutOutRandom"
   ]
  },
  {
   "cell_type": "code",
   "execution_count": null,
   "metadata": {},
   "outputs": [],
   "source": [
    "#| default_exp cutoutrandom"
   ]
  },
  {
   "cell_type": "code",
   "execution_count": null,
   "metadata": {},
   "outputs": [],
   "source": [
    "#| export\n",
    "from semantic_segmentation_augmentations.holemakertechnique import *\n",
    "from semantic_segmentation_augmentations.holemakerrandom import *\n",
    "from semantic_segmentation_augmentations.holesfilling import *\n",
    "import numpy as np\n",
    "from random import random\n",
    "import torch"
   ]
  },
  {
   "cell_type": "code",
   "execution_count": null,
   "metadata": {},
   "outputs": [],
   "source": [
    "#| hide\n",
    "from nbdev.showdoc import *\n",
    "from fastcore.utils import *"
   ]
  },
  {
   "cell_type": "code",
   "execution_count": null,
   "metadata": {},
   "outputs": [],
   "source": [
    "#| export\n",
    "class CutOutRandom(HolesFilling):\n",
    "    \"Defines the amount of holes, the technique used to make them and the probability of apply the technique.\"\n",
    "    def __init__(self,\n",
    "                 holes_num: int = 1, # The amount of holes to make.\n",
    "                 hole_maker: \"HoleMakerTechnique\" = None, # The strategy used to make the holes.\n",
    "                 p = 1.0): # The probability of applying this technique.\n",
    "        super().__init__(hole_maker)\n",
    "        self.holes_num = holes_num\n",
    "        self.p = p\n",
    "\n",
    "    def before_batch(self):\n",
    "        \"Applies the CutOut technique.\"\n",
    "        if random() < self.p:\n",
    "            for image, mask in zip(self.x, self.y):\n",
    "                min_image = torch.min(image)\n",
    "                for _ in range(self.holes_num):\n",
    "                    xhole, yhole = self.make_hole(mask)\n",
    "                    self.fill_hole(image, mask, xhole, yhole, [min_image, 0])"
   ]
  },
  {
   "cell_type": "markdown",
   "metadata": {},
   "source": [
    "The default technique used to make those holes is the `HoleMakerRandom` technique."
   ]
  },
  {
   "cell_type": "code",
   "execution_count": null,
   "metadata": {},
   "outputs": [
    {
     "data": {
      "text/markdown": [
       "---\n",
       "\n",
       "[source](https://github.com/ruescog/semantic_segmentation_augmentations/blob/master/semantic_segmentation_augmentations/CutOutRandom.py#L23){target=\"_blank\" style=\"float:right; font-size:smaller\"}\n",
       "\n",
       "### CutOutRandom.before_batch\n",
       "\n",
       ">      CutOutRandom.before_batch ()\n",
       "\n",
       "Applies the CutOut technique."
      ],
      "text/plain": [
       "---\n",
       "\n",
       "[source](https://github.com/ruescog/semantic_segmentation_augmentations/blob/master/semantic_segmentation_augmentations/CutOutRandom.py#L23){target=\"_blank\" style=\"float:right; font-size:smaller\"}\n",
       "\n",
       "### CutOutRandom.before_batch\n",
       "\n",
       ">      CutOutRandom.before_batch ()\n",
       "\n",
       "Applies the CutOut technique."
      ]
     },
     "execution_count": null,
     "metadata": {},
     "output_type": "execute_result"
    }
   ],
   "source": [
    "show_doc(CutOutRandom.before_batch)"
   ]
  },
  {
   "cell_type": "code",
   "execution_count": null,
   "metadata": {},
   "outputs": [],
   "source": [
    "#| hide\n",
    "import nbdev\n",
    "nbdev.nbdev_export()"
   ]
  }
 ],
 "metadata": {
  "kernelspec": {
   "display_name": "Python 3 (ipykernel)",
   "language": "python",
   "name": "python3"
  }
 },
 "nbformat": 4,
 "nbformat_minor": 4
}
