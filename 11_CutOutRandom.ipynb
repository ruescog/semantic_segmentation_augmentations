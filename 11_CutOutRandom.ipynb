{
 "cells": [
  {
   "cell_type": "markdown",
   "metadata": {},
   "source": [
    "# CutOutRandom"
   ]
  },
  {
   "cell_type": "code",
   "execution_count": 1,
   "metadata": {},
   "outputs": [],
   "source": [
    "#| default_exp CutOutRandom"
   ]
  },
  {
   "cell_type": "code",
   "execution_count": 9,
   "metadata": {},
   "outputs": [],
   "source": [
    "#| export\n",
    "from semantic_segmentation_augmentations.HoleMakerTechnique import *\n",
    "from semantic_segmentation_augmentations.HoleMakerRandom import *\n",
    "from semantic_segmentation_augmentations.HolesFilling import *\n",
    "import numpy as np"
   ]
  },
  {
   "cell_type": "code",
   "execution_count": 10,
   "metadata": {},
   "outputs": [],
   "source": [
    "#| hide\n",
    "from nbdev.showdoc import *\n",
    "from fastcore.utils import *"
   ]
  },
  {
   "cell_type": "code",
   "execution_count": 11,
   "metadata": {},
   "outputs": [],
   "source": [
    "#| export\n",
    "class CutOutRandom(HolesFilling):\n",
    "    \"Defines the amount of holes, the technique used to make them and the probability of apply the technique.\"\n",
    "    def __init__(self,\n",
    "                 holes_num: int = 1, # The amount of holes to make.\n",
    "                 hole_maker: \"HoleMakerTechnique\" = None, # The strategy used to make the holes.\n",
    "                 p = 1.0): # The probability of applying this technique.\n",
    "        super().__init__(hole_maker)\n",
    "        self.holes_num = holes_num\n",
    "        self.p = p\n",
    "\n",
    "    def before_batch(self):\n",
    "        \"Applies the CutOut technique.\"\n",
    "        if random() < self.p:\n",
    "            for image, mask in zip(self.x, self.y):\n",
    "                min_image = torch.min(image)\n",
    "                for _ in range(self.holes_num):\n",
    "                    xhole, yhole = self.make_hole(mask)\n",
    "                    self.fill_hole(image, mask, xhole, yhole, [min_image, 0])"
   ]
  },
  {
   "cell_type": "markdown",
   "metadata": {},
   "source": [
    "The default technique used to make those holes is the `HoleMakerRandom` technique."
   ]
  },
  {
   "cell_type": "code",
   "execution_count": 13,
   "metadata": {},
   "outputs": [
    {
     "data": {
      "text/markdown": [
       "---\n",
       "\n",
       "[source](https://github.com/ruescog/semantic_segmentation_augmentations/blob/master/semantic_segmentation_augmentations/CutOutRandom.py#L23){target=\"_blank\" style=\"float:right; font-size:smaller\"}\n",
       "\n",
       "### CutOutRandom.before_batch\n",
       "\n",
       ">      CutOutRandom.before_batch ()\n",
       "\n",
       "Applies the CutOut technique."
      ],
      "text/plain": [
       "---\n",
       "\n",
       "[source](https://github.com/ruescog/semantic_segmentation_augmentations/blob/master/semantic_segmentation_augmentations/CutOutRandom.py#L23){target=\"_blank\" style=\"float:right; font-size:smaller\"}\n",
       "\n",
       "### CutOutRandom.before_batch\n",
       "\n",
       ">      CutOutRandom.before_batch ()\n",
       "\n",
       "Applies the CutOut technique."
      ]
     },
     "execution_count": 13,
     "metadata": {},
     "output_type": "execute_result"
    }
   ],
   "source": [
    "show_doc(CutOutRandom.before_batch)"
   ]
  },
  {
   "cell_type": "code",
   "execution_count": 14,
   "metadata": {},
   "outputs": [],
   "source": [
    "#| hide\n",
    "import nbdev\n",
    "nbdev.nbdev_export()"
   ]
  }
 ],
 "metadata": {
  "kernelspec": {
   "display_name": "Python 3 (ipykernel)",
   "language": "python",
   "name": "python3"
  },
  "language_info": {
   "codemirror_mode": {
    "name": "ipython",
    "version": 3
   },
   "file_extension": ".py",
   "mimetype": "text/x-python",
   "name": "python",
   "nbconvert_exporter": "python",
   "pygments_lexer": "ipython3",
   "version": "3.8.10"
  }
 },
 "nbformat": 4,
 "nbformat_minor": 4
}
