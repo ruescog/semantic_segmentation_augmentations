{
 "cells": [
  {
   "cell_type": "markdown",
   "id": "2f9fe9d8-746e-42f0-8f02-b9d296adaa2d",
   "metadata": {},
   "source": [
    "In this group of notebook we will test the methods implemented in the library to check if they can improve the results of the models.\n",
    "\n",
    "In order to be as impartial as possible, we will use a KFold evaluation for each combination, with a k-value of five.\n",
    "\n",
    "In this particular notebook, we will train the model using the `CutMixRICAP` technique."
   ]
  },
  {
   "cell_type": "code",
   "execution_count": null,
   "id": "11c3700f-949f-45e5-93b1-a51ff1eab5b0",
   "metadata": {},
   "outputs": [
    {
     "name": "stderr",
     "output_type": "stream",
     "text": [
      "/home/ruescog/.conda/envs/visionmodelsevaluation/lib/python3.10/site-packages/tqdm/auto.py:22: TqdmWarning: IProgress not found. Please update jupyter and ipywidgets. See https://ipywidgets.readthedocs.io/en/stable/user_install.html\n",
      "  from .autonotebook import tqdm as notebook_tqdm\n"
     ]
    }
   ],
   "source": [
    "from fastai.basics import *\n",
    "from fastai.vision import models\n",
    "from fastai.vision.all import *\n",
    "from fastai.metrics import *\n",
    "from fastai.data.all import *\n",
    "from fastai.callback import *\n",
    "\n",
    "from semantic_segmentation_augmentations.holemakerpoint import HoleMakerPoint\n",
    "from semantic_segmentation_augmentations.cutmixricap import CutMixRICAP\n",
    "\n",
    "from vision_models_evaluation.core import evaluate\n",
    "\n",
    "from sklearn.model_selection import KFold\n",
    "\n",
    "import pandas as pd\n",
    "\n",
    "import matplotlib.pyplot as plt\n",
    "\n",
    "import PIL\n",
    "import torchvision.transforms as transforms\n",
    "from pathlib import Path\n",
    "import random"
   ]
  },
  {
   "cell_type": "code",
   "execution_count": 2,
   "id": "50077b74-65a5-492e-b75b-18ab4444ba3a",
   "metadata": {},
   "outputs": [],
   "source": [
    "import torch; torch.cuda.set_device(1)"
   ]
  },
  {
   "cell_type": "markdown",
   "id": "34ac4f38-8a59-4174-ba46-0b7148e5f916",
   "metadata": {},
   "source": [
    "Then, we prepare the scenario: we are going to use a grape vine dataset where the semantic problem to tackle is to segmentate the RGB images into wood, leaves, grape and pole classes.\n",
    "\n",
    "Finally, we define here the mapping functions and the masks transformations."
   ]
  },
  {
   "cell_type": "code",
<<<<<<< HEAD
   "execution_count": 3,
=======
   "execution_count": null,
>>>>>>> 4e7472c300958dffc538dd7f1aa83bd459ad2886
   "id": "8fdbdfc5-c782-423a-bfef-bb84e00c9d77",
   "metadata": {},
   "outputs": [],
   "source": [
    "path=Path('dataset/')\n",
    "path_images = path/\"Images\"\n",
    "path_labels = path/\"Labels\"\n",
    "\n",
    "def get_y_fn (x):\n",
    "    return Path(str(x).replace(\"Images\",\"Labels\").replace(\"color\",\"gt\").replace(\".jpg\",\".png\"))\n",
    "\n",
    "codes = np.loadtxt(path/'codesAll.txt', dtype=str)\n",
    "\n",
    "def ParentSplitter(x):\n",
    "    return Path(x).parent.name==test_name\n",
    "\n",
    "from albumentations import (\n",
    "  Compose,\n",
    "  OneOf,\n",
    "  ElasticTransform,\n",
    "  GridDistortion, \n",
    "  OpticalDistortion,\n",
    "  HorizontalFlip,\n",
    "  Rotate,\n",
    "  Transpose,\n",
    "  CLAHE,\n",
    "  ShiftScaleRotate\n",
    ")\n",
    "\n",
    "class SegmentationAlbumentationsTransform(ItemTransform):\n",
    "    split_idx = 0\n",
    "\n",
    "    def __init__(self, aug): \n",
    "        self.aug = aug\n",
    "\n",
    "    def encodes(self, x):\n",
    "        img,mask = x\n",
    "        aug = self.aug(image=np.array(img), mask=np.array(mask))\n",
    "        return PILImage.create(aug[\"image\"]), PILMask.create(aug[\"mask\"])\n",
    "\n",
    "transforms=Compose([HorizontalFlip(p=0.5),\n",
    "                    Rotate(p=0.40,limit=10),GridDistortion()\n",
    "                    ],p=1)\n",
    "\n",
    "transformPipeline=SegmentationAlbumentationsTransform(transforms)\n",
    "\n",
    "class TargetMaskConvertTransform(ItemTransform):\n",
    "    def __init__(self): \n",
    "        pass\n",
    "    def encodes(self, x):\n",
    "        img,mask = x\n",
    "\n",
    "        #Convert to array\n",
    "        mask = np.array(mask)\n",
    "\n",
    "        # background = 0, leaves = 1, pole = 74 o 76, wood = 25 o 29, grape = 255\n",
    "        mask[mask == 255] = 1 # grape\n",
    "        mask[mask == 150] = 2 # leaves\n",
    "        mask[mask == 76] = 3 ; mask[mask == 74] = 3 # pole\n",
    "        mask[mask == 29] = 4 ; mask[mask == 25] = 4 # wood\n",
    "        mask[mask >= 5] = 0 # resto: background\n",
    "\n",
    "        # Back to PILMask\n",
    "        mask = PILMask.create(mask)\n",
    "        return img, mask"
   ]
  },
  {
   "cell_type": "markdown",
   "id": "71da4cae-fd44-48d3-bc50-a5d259ccb3ac",
   "metadata": {},
   "source": [
    "While training, we will use the EarlyStopping strategy: after five epoch without improvements, the training will be stopped."
   ]
  },
  {
   "cell_type": "code",
<<<<<<< HEAD
   "execution_count": 4,
=======
   "execution_count": null,
>>>>>>> 4e7472c300958dffc538dd7f1aa83bd459ad2886
   "id": "a2d61604-0aab-4708-bc91-08bbc983dffe",
   "metadata": {},
   "outputs": [],
   "source": [
    "esc = EarlyStoppingCallback(patience = 5, min_delta = 0.01)"
   ]
  },
  {
   "cell_type": "markdown",
   "id": "725c9972-d7ed-49c4-9f2f-ccd00586a750",
   "metadata": {},
   "source": [
    "Then, we define all the hparams (hyperparameters) to build the datablocks, dataloaders and learners."
   ]
  },
  {
   "cell_type": "code",
<<<<<<< HEAD
   "execution_count": 5,
=======
   "execution_count": null,
>>>>>>> 4e7472c300958dffc538dd7f1aa83bd459ad2886
   "id": "25a3e481-acc7-439b-ad6a-632b6e5115a2",
   "metadata": {},
   "outputs": [],
   "source": [
    "db_hparams = {\n",
    "    \"blocks\": (ImageBlock, MaskBlock(codes)),\n",
    "    \"get_items\": get_image_files,\n",
    "    \"get_y\": get_y_fn,\n",
    "    \"splitter\": RandomSplitter(valid_pct=0.2),\n",
    "    \"item_tfms\": [Resize((480,640)), TargetMaskConvertTransform(), transformPipeline],\n",
    "    \"batch_tfms\": Normalize.from_stats(*imagenet_stats)\n",
    "}\n",
    "\n",
    "dls_hparams = {\n",
    "    \"source\": path_images,\n",
    "    \"bs\": 2,\n",
    "    \"pin_memory\": False\n",
    "}\n",
    "\n",
    "technique = KFold(n_splits = 5)\n",
    "\n",
    "learner_hparams = {\n",
    "    \"arch\": resnet50,\n",
    "    \"pretrained\": True,\n",
    "    \"metrics\": [DiceMulti()],\n",
    "    \"cbs\": []\n",
    "}\n",
    "\n",
    "learning_hparams = {\n",
    "    \"epochs\": 30,\n",
    "    \"base_lr\": 0.001,\n",
    "    \"freeze_epochs\": 3\n",
    "}\n",
    "\n",
    "learning_mode = \"finetune\""
   ]
  },
  {
   "cell_type": "markdown",
   "id": "a75ad45c-05a0-40bf-8ea7-013e1dcbb8cb",
   "metadata": {},
   "source": [
    "In order to know how does this technique work, we can show an example:\n",
    "\n",
    "This technique divides the image (and its mask) in four regions and shuffles them.\n",
    "\n",
    "The only technique that makes sense to use in this case is the `HoleMakerPoint`."
   ]
  },
  {
   "cell_type": "code",
<<<<<<< HEAD
   "execution_count": 6,
=======
   "execution_count": null,
>>>>>>> 4e7472c300958dffc538dd7f1aa83bd459ad2886
   "id": "3456e419-4bfc-43d7-be80-b94f74c3d93e",
   "metadata": {},
   "outputs": [
    {
     "name": "stderr",
     "output_type": "stream",
     "text": [
      "/home/ruescog/.conda/envs/visionmodelsevaluation/lib/python3.10/site-packages/torch/_tensor.py:1121: UserWarning: __floordiv__ is deprecated, and its behavior will change in a future version of pytorch. It currently rounds toward 0 (like the 'trunc' function NOT 'floor'). This results in incorrect rounding for negative values. To keep the current behavior, use torch.div(a, b, rounding_mode='trunc'), or for actual floor division, use torch.div(a, b, rounding_mode='floor').\n",
      "  ret = func(*args, **kwargs)\n"
     ]
    },
    {
     "data": {
      "text/html": [
       "\n",
       "<style>\n",
       "    /* Turns off some styling */\n",
       "    progress {\n",
       "        /* gets rid of default border in Firefox and Opera. */\n",
       "        border: none;\n",
       "        /* Needs to be in here for Safari polyfill so background images work as expected. */\n",
       "        background-size: auto;\n",
       "    }\n",
       "    progress:not([value]), progress:not([value])::-webkit-progress-bar {\n",
       "        background: repeating-linear-gradient(45deg, #7e7e7e, #7e7e7e 10px, #5c5c5c 10px, #5c5c5c 20px);\n",
       "    }\n",
       "    .progress-bar-interrupted, .progress-bar-interrupted::-webkit-progress-bar {\n",
       "        background: #F44336;\n",
       "    }\n",
       "</style>\n"
      ],
      "text/plain": [
       "<IPython.core.display.HTML object>"
      ]
     },
     "metadata": {},
     "output_type": "display_data"
    },
    {
     "data": {
      "text/html": [
       "<table border=\"1\" class=\"dataframe\">\n",
       "  <thead>\n",
       "    <tr style=\"text-align: left;\">\n",
       "      <th>epoch</th>\n",
       "      <th>train_loss</th>\n",
       "      <th>valid_loss</th>\n",
       "      <th>dice_multi</th>\n",
       "      <th>time</th>\n",
       "    </tr>\n",
       "  </thead>\n",
       "  <tbody>\n",
       "    <tr>\n",
       "      <td>0</td>\n",
       "      <td>00:00</td>\n",
       "    </tr>\n",
       "  </tbody>\n",
       "</table>"
      ],
      "text/plain": [
       "<IPython.core.display.HTML object>"
      ]
     },
     "metadata": {},
     "output_type": "display_data"
    },
    {
     "data": {
      "image/png": "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\n",
      "text/plain": [
       "<Figure size 900x900 with 2 Axes>"
      ]
     },
     "metadata": {},
     "output_type": "display_data"
    }
   ],
   "source": [
    "cmr = CutMixRICAP()\n",
    "dls = DataBlock(**db_hparams).dataloaders(**dls_hparams)\n",
    "with Learner(dls, resnet50(), metrics=[DiceMulti()], cbs = cmr) as learn:\n",
    "    learn.epoch, learn.training = 0, True\n",
    "    learn.dl = dls.train\n",
    "    b = dls.one_batch()\n",
    "    learn._split(b)\n",
    "    learn('before_train')\n",
    "    learn('before_batch')\n",
    "\n",
    "_, axs = plt.subplots(1, 2, figsize=(9, 9))\n",
    "dls.show_batch(b = (cmr.x, cmr.y), ctxs = axs.flatten())"
   ]
  },
  {
   "cell_type": "markdown",
   "id": "f7cb0c4c-a99d-4ea8-83a6-2ac1e2fc0dfc",
   "metadata": {},
   "source": [
    "Finally, we test the model with distinct hparams."
   ]
  },
  {
   "cell_type": "code",
<<<<<<< HEAD
   "execution_count": 7,
=======
   "execution_count": null,
>>>>>>> 4e7472c300958dffc538dd7f1aa83bd459ad2886
   "id": "5f40aa71-cddf-4eba-866c-26ac9ff5e5a3",
   "metadata": {},
   "outputs": [
    {
     "name": "stderr",
     "output_type": "stream",
     "text": [
      "/home/ruescog/.conda/envs/visionmodelsevaluation/lib/python3.10/site-packages/torchvision/models/_utils.py:135: UserWarning: Using 'weights' as positional parameter(s) is deprecated since 0.13 and will be removed in 0.15. Please use keyword parameter(s) instead.\n",
      "  warnings.warn(\n",
      "/home/ruescog/.conda/envs/visionmodelsevaluation/lib/python3.10/site-packages/torchvision/models/_utils.py:223: UserWarning: Arguments other than a weight enum or `None` for 'weights' are deprecated since 0.13 and will be removed in 0.15. The current behavior is equivalent to passing `weights=ResNet50_Weights.IMAGENET1K_V1`. You can also use `weights=ResNet50_Weights.DEFAULT` to get the most up-to-date weights.\n",
      "  warnings.warn(msg)\n"
     ]
    },
    {
     "data": {
      "text/html": [
       "\n",
       "<style>\n",
       "    /* Turns off some styling */\n",
       "    progress {\n",
       "        /* gets rid of default border in Firefox and Opera. */\n",
       "        border: none;\n",
       "        /* Needs to be in here for Safari polyfill so background images work as expected. */\n",
       "        background-size: auto;\n",
       "    }\n",
       "    progress:not([value]), progress:not([value])::-webkit-progress-bar {\n",
       "        background: repeating-linear-gradient(45deg, #7e7e7e, #7e7e7e 10px, #5c5c5c 10px, #5c5c5c 20px);\n",
       "    }\n",
       "    .progress-bar-interrupted, .progress-bar-interrupted::-webkit-progress-bar {\n",
       "        background: #F44336;\n",
       "    }\n",
       "</style>\n"
      ],
      "text/plain": [
       "<IPython.core.display.HTML object>"
      ]
     },
     "metadata": {},
     "output_type": "display_data"
    },
    {
     "data": {
      "text/html": [
       "<table border=\"1\" class=\"dataframe\">\n",
       "  <thead>\n",
       "    <tr style=\"text-align: left;\">\n",
       "      <th>epoch</th>\n",
       "      <th>train_loss</th>\n",
       "      <th>valid_loss</th>\n",
       "      <th>dice_multi</th>\n",
       "      <th>time</th>\n",
       "    </tr>\n",
       "  </thead>\n",
       "  <tbody>\n",
       "    <tr>\n",
       "      <td>0</td>\n",
       "      <td>0.905695</td>\n",
       "      <td>0.572728</td>\n",
       "      <td>0.321038</td>\n",
       "      <td>00:23</td>\n",
       "    </tr>\n",
       "    <tr>\n",
       "      <td>1</td>\n",
       "      <td>0.761862</td>\n",
       "      <td>0.583131</td>\n",
       "      <td>0.307590</td>\n",
       "      <td>00:21</td>\n",
       "    </tr>\n",
       "    <tr>\n",
       "      <td>2</td>\n",
       "      <td>0.686898</td>\n",
       "      <td>0.433632</td>\n",
       "      <td>0.345580</td>\n",
       "      <td>00:20</td>\n",
       "    </tr>\n",
       "  </tbody>\n",
       "</table>"
      ],
      "text/plain": [
       "<IPython.core.display.HTML object>"
      ]
     },
     "metadata": {},
     "output_type": "display_data"
    },
    {
     "data": {
      "text/html": [
       "\n",
       "<style>\n",
       "    /* Turns off some styling */\n",
       "    progress {\n",
       "        /* gets rid of default border in Firefox and Opera. */\n",
       "        border: none;\n",
       "        /* Needs to be in here for Safari polyfill so background images work as expected. */\n",
       "        background-size: auto;\n",
       "    }\n",
       "    progress:not([value]), progress:not([value])::-webkit-progress-bar {\n",
       "        background: repeating-linear-gradient(45deg, #7e7e7e, #7e7e7e 10px, #5c5c5c 10px, #5c5c5c 20px);\n",
       "    }\n",
       "    .progress-bar-interrupted, .progress-bar-interrupted::-webkit-progress-bar {\n",
       "        background: #F44336;\n",
       "    }\n",
       "</style>\n"
      ],
      "text/plain": [
       "<IPython.core.display.HTML object>"
      ]
     },
     "metadata": {},
     "output_type": "display_data"
    },
    {
     "data": {
      "text/html": [
       "<table border=\"1\" class=\"dataframe\">\n",
       "  <thead>\n",
       "    <tr style=\"text-align: left;\">\n",
       "      <th>epoch</th>\n",
       "      <th>train_loss</th>\n",
       "      <th>valid_loss</th>\n",
       "      <th>dice_multi</th>\n",
       "      <th>time</th>\n",
       "    </tr>\n",
       "  </thead>\n",
       "  <tbody>\n",
       "    <tr>\n",
       "      <td>0</td>\n",
       "      <td>0.495926</td>\n",
       "      <td>0.354570</td>\n",
       "      <td>0.363976</td>\n",
       "      <td>00:20</td>\n",
       "    </tr>\n",
       "    <tr>\n",
       "      <td>1</td>\n",
       "      <td>0.448103</td>\n",
       "      <td>0.367720</td>\n",
       "      <td>0.458806</td>\n",
       "      <td>00:20</td>\n",
       "    </tr>\n",
       "    <tr>\n",
       "      <td>2</td>\n",
       "      <td>0.435012</td>\n",
       "      <td>0.304622</td>\n",
       "      <td>0.527687</td>\n",
       "      <td>00:20</td>\n",
       "    </tr>\n",
       "    <tr>\n",
       "      <td>3</td>\n",
       "      <td>0.410261</td>\n",
       "      <td>0.380147</td>\n",
       "      <td>0.568829</td>\n",
       "      <td>00:21</td>\n",
       "    </tr>\n",
       "    <tr>\n",
       "      <td>4</td>\n",
       "      <td>0.378110</td>\n",
       "      <td>0.271604</td>\n",
       "      <td>0.727841</td>\n",
       "      <td>00:21</td>\n",
       "    </tr>\n",
       "    <tr>\n",
       "      <td>5</td>\n",
       "      <td>0.371448</td>\n",
       "      <td>0.354659</td>\n",
       "      <td>0.584908</td>\n",
       "      <td>00:20</td>\n",
       "    </tr>\n",
       "    <tr>\n",
       "      <td>6</td>\n",
       "      <td>0.346189</td>\n",
       "      <td>0.281804</td>\n",
       "      <td>0.752935</td>\n",
       "      <td>00:20</td>\n",
       "    </tr>\n",
       "    <tr>\n",
       "      <td>7</td>\n",
       "      <td>0.354174</td>\n",
       "      <td>0.394954</td>\n",
       "      <td>0.703264</td>\n",
       "      <td>00:20</td>\n",
       "    </tr>\n",
       "    <tr>\n",
       "      <td>8</td>\n",
       "      <td>0.405872</td>\n",
       "      <td>0.358986</td>\n",
       "      <td>0.702972</td>\n",
       "      <td>00:20</td>\n",
       "    </tr>\n",
       "    <tr>\n",
       "      <td>9</td>\n",
       "      <td>0.386833</td>\n",
       "      <td>0.280899</td>\n",
       "      <td>0.713218</td>\n",
       "      <td>00:20</td>\n",
       "    </tr>\n",
       "  </tbody>\n",
       "</table>"
      ],
      "text/plain": [
       "<IPython.core.display.HTML object>"
      ]
     },
     "metadata": {},
     "output_type": "display_data"
    },
    {
     "name": "stdout",
     "output_type": "stream",
     "text": [
      "No improvement since epoch 4: early stopping\n"
     ]
    },
    {
     "data": {
      "text/html": [
       "\n",
       "<style>\n",
       "    /* Turns off some styling */\n",
       "    progress {\n",
       "        /* gets rid of default border in Firefox and Opera. */\n",
       "        border: none;\n",
       "        /* Needs to be in here for Safari polyfill so background images work as expected. */\n",
       "        background-size: auto;\n",
       "    }\n",
       "    progress:not([value]), progress:not([value])::-webkit-progress-bar {\n",
       "        background: repeating-linear-gradient(45deg, #7e7e7e, #7e7e7e 10px, #5c5c5c 10px, #5c5c5c 20px);\n",
       "    }\n",
       "    .progress-bar-interrupted, .progress-bar-interrupted::-webkit-progress-bar {\n",
       "        background: #F44336;\n",
       "    }\n",
       "</style>\n"
      ],
      "text/plain": [
       "<IPython.core.display.HTML object>"
      ]
     },
     "metadata": {},
     "output_type": "display_data"
    },
    {
     "data": {
      "text/html": [],
      "text/plain": [
       "<IPython.core.display.HTML object>"
      ]
     },
     "metadata": {},
     "output_type": "display_data"
    },
    {
     "data": {
      "text/html": [
       "\n",
       "<style>\n",
       "    /* Turns off some styling */\n",
       "    progress {\n",
       "        /* gets rid of default border in Firefox and Opera. */\n",
       "        border: none;\n",
       "        /* Needs to be in here for Safari polyfill so background images work as expected. */\n",
       "        background-size: auto;\n",
       "    }\n",
       "    progress:not([value]), progress:not([value])::-webkit-progress-bar {\n",
       "        background: repeating-linear-gradient(45deg, #7e7e7e, #7e7e7e 10px, #5c5c5c 10px, #5c5c5c 20px);\n",
       "    }\n",
       "    .progress-bar-interrupted, .progress-bar-interrupted::-webkit-progress-bar {\n",
       "        background: #F44336;\n",
       "    }\n",
       "</style>\n"
      ],
      "text/plain": [
       "<IPython.core.display.HTML object>"
      ]
     },
     "metadata": {},
     "output_type": "display_data"
    },
    {
     "data": {
      "text/html": [
       "<table border=\"1\" class=\"dataframe\">\n",
       "  <thead>\n",
       "    <tr style=\"text-align: left;\">\n",
       "      <th>epoch</th>\n",
       "      <th>train_loss</th>\n",
       "      <th>valid_loss</th>\n",
       "      <th>dice_multi</th>\n",
       "      <th>time</th>\n",
       "    </tr>\n",
       "  </thead>\n",
       "  <tbody>\n",
       "    <tr>\n",
       "      <td>0</td>\n",
       "      <td>1.068935</td>\n",
       "      <td>0.874590</td>\n",
       "      <td>0.284448</td>\n",
       "      <td>00:21</td>\n",
       "    </tr>\n",
       "    <tr>\n",
       "      <td>1</td>\n",
       "      <td>0.777901</td>\n",
       "      <td>0.535585</td>\n",
       "      <td>0.334168</td>\n",
       "      <td>00:20</td>\n",
       "    </tr>\n",
       "    <tr>\n",
       "      <td>2</td>\n",
       "      <td>0.721250</td>\n",
       "      <td>2.905108</td>\n",
       "      <td>0.178070</td>\n",
       "      <td>00:20</td>\n",
       "    </tr>\n",
       "  </tbody>\n",
       "</table>"
      ],
      "text/plain": [
       "<IPython.core.display.HTML object>"
      ]
     },
     "metadata": {},
     "output_type": "display_data"
    },
    {
     "data": {
      "text/html": [
       "\n",
       "<style>\n",
       "    /* Turns off some styling */\n",
       "    progress {\n",
       "        /* gets rid of default border in Firefox and Opera. */\n",
       "        border: none;\n",
       "        /* Needs to be in here for Safari polyfill so background images work as expected. */\n",
       "        background-size: auto;\n",
       "    }\n",
       "    progress:not([value]), progress:not([value])::-webkit-progress-bar {\n",
       "        background: repeating-linear-gradient(45deg, #7e7e7e, #7e7e7e 10px, #5c5c5c 10px, #5c5c5c 20px);\n",
       "    }\n",
       "    .progress-bar-interrupted, .progress-bar-interrupted::-webkit-progress-bar {\n",
       "        background: #F44336;\n",
       "    }\n",
       "</style>\n"
      ],
      "text/plain": [
       "<IPython.core.display.HTML object>"
      ]
     },
     "metadata": {},
     "output_type": "display_data"
    },
    {
     "data": {
      "text/html": [
       "<table border=\"1\" class=\"dataframe\">\n",
       "  <thead>\n",
       "    <tr style=\"text-align: left;\">\n",
       "      <th>epoch</th>\n",
       "      <th>train_loss</th>\n",
       "      <th>valid_loss</th>\n",
       "      <th>dice_multi</th>\n",
       "      <th>time</th>\n",
       "    </tr>\n",
       "  </thead>\n",
       "  <tbody>\n",
       "    <tr>\n",
       "      <td>0</td>\n",
       "      <td>0.786828</td>\n",
       "      <td>0.465834</td>\n",
       "      <td>0.353406</td>\n",
       "      <td>00:21</td>\n",
       "    </tr>\n",
       "    <tr>\n",
       "      <td>1</td>\n",
       "      <td>0.554404</td>\n",
       "      <td>0.404390</td>\n",
       "      <td>0.412470</td>\n",
       "      <td>00:21</td>\n",
       "    </tr>\n",
       "    <tr>\n",
       "      <td>2</td>\n",
       "      <td>0.491114</td>\n",
       "      <td>0.420674</td>\n",
       "      <td>0.479517</td>\n",
       "      <td>00:21</td>\n",
       "    </tr>\n",
       "    <tr>\n",
       "      <td>3</td>\n",
       "      <td>0.445043</td>\n",
       "      <td>0.397480</td>\n",
       "      <td>0.454839</td>\n",
       "      <td>00:20</td>\n",
       "    </tr>\n",
       "    <tr>\n",
       "      <td>4</td>\n",
       "      <td>0.410735</td>\n",
       "      <td>0.431528</td>\n",
       "      <td>0.532733</td>\n",
       "      <td>00:20</td>\n",
       "    </tr>\n",
       "    <tr>\n",
       "      <td>5</td>\n",
       "      <td>0.416683</td>\n",
       "      <td>0.393587</td>\n",
       "      <td>0.476449</td>\n",
       "      <td>00:21</td>\n",
       "    </tr>\n",
       "    <tr>\n",
       "      <td>6</td>\n",
       "      <td>0.411435</td>\n",
       "      <td>0.394581</td>\n",
       "      <td>0.577513</td>\n",
       "      <td>00:21</td>\n",
       "    </tr>\n",
       "    <tr>\n",
       "      <td>7</td>\n",
       "      <td>0.391872</td>\n",
       "      <td>0.311311</td>\n",
       "      <td>0.589148</td>\n",
       "      <td>00:20</td>\n",
       "    </tr>\n",
       "    <tr>\n",
       "      <td>8</td>\n",
       "      <td>0.369780</td>\n",
       "      <td>0.333831</td>\n",
       "      <td>0.631953</td>\n",
       "      <td>00:21</td>\n",
       "    </tr>\n",
       "    <tr>\n",
       "      <td>9</td>\n",
       "      <td>0.347523</td>\n",
       "      <td>0.348040</td>\n",
       "      <td>0.522019</td>\n",
       "      <td>00:21</td>\n",
       "    </tr>\n",
       "    <tr>\n",
       "      <td>10</td>\n",
       "      <td>0.369394</td>\n",
       "      <td>0.345800</td>\n",
       "      <td>0.700353</td>\n",
       "      <td>00:21</td>\n",
       "    </tr>\n",
       "    <tr>\n",
       "      <td>11</td>\n",
       "      <td>0.347356</td>\n",
       "      <td>0.342331</td>\n",
       "      <td>0.569407</td>\n",
       "      <td>00:20</td>\n",
       "    </tr>\n",
       "    <tr>\n",
       "      <td>12</td>\n",
       "      <td>0.335849</td>\n",
       "      <td>0.285853</td>\n",
       "      <td>0.744562</td>\n",
       "      <td>00:20</td>\n",
       "    </tr>\n",
       "    <tr>\n",
       "      <td>13</td>\n",
       "      <td>0.307635</td>\n",
       "      <td>0.308951</td>\n",
       "      <td>0.743119</td>\n",
       "      <td>00:21</td>\n",
       "    </tr>\n",
       "    <tr>\n",
       "      <td>14</td>\n",
       "      <td>0.311054</td>\n",
       "      <td>0.355726</td>\n",
       "      <td>0.675798</td>\n",
       "      <td>00:21</td>\n",
       "    </tr>\n",
       "    <tr>\n",
       "      <td>15</td>\n",
       "      <td>0.303089</td>\n",
       "      <td>0.286743</td>\n",
       "      <td>0.756571</td>\n",
       "      <td>00:20</td>\n",
       "    </tr>\n",
       "    <tr>\n",
       "      <td>16</td>\n",
       "      <td>0.280469</td>\n",
       "      <td>0.245691</td>\n",
       "      <td>0.782277</td>\n",
       "      <td>00:21</td>\n",
       "    </tr>\n",
       "    <tr>\n",
       "      <td>17</td>\n",
       "      <td>0.267195</td>\n",
       "      <td>0.269300</td>\n",
       "      <td>0.768971</td>\n",
       "      <td>00:21</td>\n",
       "    </tr>\n",
       "    <tr>\n",
       "      <td>18</td>\n",
       "      <td>0.275866</td>\n",
       "      <td>0.276947</td>\n",
       "      <td>0.770354</td>\n",
       "      <td>00:20</td>\n",
       "    </tr>\n",
       "    <tr>\n",
       "      <td>19</td>\n",
       "      <td>0.268352</td>\n",
       "      <td>0.255623</td>\n",
       "      <td>0.761103</td>\n",
       "      <td>00:20</td>\n",
       "    </tr>\n",
       "    <tr>\n",
       "      <td>20</td>\n",
       "      <td>0.249644</td>\n",
       "      <td>0.243684</td>\n",
       "      <td>0.794445</td>\n",
       "      <td>00:21</td>\n",
       "    </tr>\n",
       "    <tr>\n",
       "      <td>21</td>\n",
       "      <td>0.246981</td>\n",
       "      <td>0.258521</td>\n",
       "      <td>0.809011</td>\n",
       "      <td>00:20</td>\n",
       "    </tr>\n",
       "  </tbody>\n",
       "</table>"
      ],
      "text/plain": [
       "<IPython.core.display.HTML object>"
      ]
     },
     "metadata": {},
     "output_type": "display_data"
    },
    {
     "name": "stdout",
     "output_type": "stream",
     "text": [
      "No improvement since epoch 16: early stopping\n"
     ]
    },
    {
     "data": {
      "text/html": [
       "\n",
       "<style>\n",
       "    /* Turns off some styling */\n",
       "    progress {\n",
       "        /* gets rid of default border in Firefox and Opera. */\n",
       "        border: none;\n",
       "        /* Needs to be in here for Safari polyfill so background images work as expected. */\n",
       "        background-size: auto;\n",
       "    }\n",
       "    progress:not([value]), progress:not([value])::-webkit-progress-bar {\n",
       "        background: repeating-linear-gradient(45deg, #7e7e7e, #7e7e7e 10px, #5c5c5c 10px, #5c5c5c 20px);\n",
       "    }\n",
       "    .progress-bar-interrupted, .progress-bar-interrupted::-webkit-progress-bar {\n",
       "        background: #F44336;\n",
       "    }\n",
       "</style>\n"
      ],
      "text/plain": [
       "<IPython.core.display.HTML object>"
      ]
     },
     "metadata": {},
     "output_type": "display_data"
    },
    {
     "data": {
      "text/html": [],
      "text/plain": [
       "<IPython.core.display.HTML object>"
      ]
     },
     "metadata": {},
     "output_type": "display_data"
    },
    {
     "data": {
      "text/html": [
       "\n",
       "<style>\n",
       "    /* Turns off some styling */\n",
       "    progress {\n",
       "        /* gets rid of default border in Firefox and Opera. */\n",
       "        border: none;\n",
       "        /* Needs to be in here for Safari polyfill so background images work as expected. */\n",
       "        background-size: auto;\n",
       "    }\n",
       "    progress:not([value]), progress:not([value])::-webkit-progress-bar {\n",
       "        background: repeating-linear-gradient(45deg, #7e7e7e, #7e7e7e 10px, #5c5c5c 10px, #5c5c5c 20px);\n",
       "    }\n",
       "    .progress-bar-interrupted, .progress-bar-interrupted::-webkit-progress-bar {\n",
       "        background: #F44336;\n",
       "    }\n",
       "</style>\n"
      ],
      "text/plain": [
       "<IPython.core.display.HTML object>"
      ]
     },
     "metadata": {},
     "output_type": "display_data"
    },
    {
     "data": {
      "text/html": [
       "<table border=\"1\" class=\"dataframe\">\n",
       "  <thead>\n",
       "    <tr style=\"text-align: left;\">\n",
       "      <th>epoch</th>\n",
       "      <th>train_loss</th>\n",
       "      <th>valid_loss</th>\n",
       "      <th>dice_multi</th>\n",
       "      <th>time</th>\n",
       "    </tr>\n",
       "  </thead>\n",
       "  <tbody>\n",
       "    <tr>\n",
       "      <td>0</td>\n",
       "      <td>0.987846</td>\n",
       "      <td>0.840293</td>\n",
       "      <td>0.285498</td>\n",
       "      <td>00:21</td>\n",
       "    </tr>\n",
       "    <tr>\n",
       "      <td>1</td>\n",
       "      <td>0.752798</td>\n",
       "      <td>0.558684</td>\n",
       "      <td>0.328351</td>\n",
       "      <td>00:21</td>\n",
       "    </tr>\n",
       "    <tr>\n",
       "      <td>2</td>\n",
       "      <td>0.678049</td>\n",
       "      <td>0.487307</td>\n",
       "      <td>0.335732</td>\n",
       "      <td>00:20</td>\n",
       "    </tr>\n",
       "  </tbody>\n",
       "</table>"
      ],
      "text/plain": [
       "<IPython.core.display.HTML object>"
      ]
     },
     "metadata": {},
     "output_type": "display_data"
    },
    {
     "data": {
      "text/html": [
       "\n",
       "<style>\n",
       "    /* Turns off some styling */\n",
       "    progress {\n",
       "        /* gets rid of default border in Firefox and Opera. */\n",
       "        border: none;\n",
       "        /* Needs to be in here for Safari polyfill so background images work as expected. */\n",
       "        background-size: auto;\n",
       "    }\n",
       "    progress:not([value]), progress:not([value])::-webkit-progress-bar {\n",
       "        background: repeating-linear-gradient(45deg, #7e7e7e, #7e7e7e 10px, #5c5c5c 10px, #5c5c5c 20px);\n",
       "    }\n",
       "    .progress-bar-interrupted, .progress-bar-interrupted::-webkit-progress-bar {\n",
       "        background: #F44336;\n",
       "    }\n",
       "</style>\n"
      ],
      "text/plain": [
       "<IPython.core.display.HTML object>"
      ]
     },
     "metadata": {},
     "output_type": "display_data"
    },
    {
     "data": {
      "text/html": [
       "<table border=\"1\" class=\"dataframe\">\n",
       "  <thead>\n",
       "    <tr style=\"text-align: left;\">\n",
       "      <th>epoch</th>\n",
       "      <th>train_loss</th>\n",
       "      <th>valid_loss</th>\n",
       "      <th>dice_multi</th>\n",
       "      <th>time</th>\n",
       "    </tr>\n",
       "  </thead>\n",
       "  <tbody>\n",
       "    <tr>\n",
       "      <td>0</td>\n",
       "      <td>0.427888</td>\n",
       "      <td>0.352219</td>\n",
       "      <td>0.448163</td>\n",
       "      <td>00:21</td>\n",
       "    </tr>\n",
       "    <tr>\n",
       "      <td>1</td>\n",
       "      <td>0.411553</td>\n",
       "      <td>0.350062</td>\n",
       "      <td>0.478336</td>\n",
       "      <td>00:21</td>\n",
       "    </tr>\n",
       "    <tr>\n",
       "      <td>2</td>\n",
       "      <td>0.388311</td>\n",
       "      <td>0.339555</td>\n",
       "      <td>0.501645</td>\n",
       "      <td>00:21</td>\n",
       "    </tr>\n",
       "    <tr>\n",
       "      <td>3</td>\n",
       "      <td>0.369631</td>\n",
       "      <td>0.315426</td>\n",
       "      <td>0.552567</td>\n",
       "      <td>00:21</td>\n",
       "    </tr>\n",
       "    <tr>\n",
       "      <td>4</td>\n",
       "      <td>0.391007</td>\n",
       "      <td>0.340310</td>\n",
       "      <td>0.592534</td>\n",
       "      <td>00:21</td>\n",
       "    </tr>\n",
       "    <tr>\n",
       "      <td>5</td>\n",
       "      <td>0.360181</td>\n",
       "      <td>0.376939</td>\n",
       "      <td>0.619173</td>\n",
       "      <td>00:21</td>\n",
       "    </tr>\n",
       "    <tr>\n",
       "      <td>6</td>\n",
       "      <td>0.373170</td>\n",
       "      <td>0.300135</td>\n",
       "      <td>0.707731</td>\n",
       "      <td>00:21</td>\n",
       "    </tr>\n",
       "    <tr>\n",
       "      <td>7</td>\n",
       "      <td>0.355357</td>\n",
       "      <td>0.277714</td>\n",
       "      <td>0.605671</td>\n",
       "      <td>00:20</td>\n",
       "    </tr>\n",
       "    <tr>\n",
       "      <td>8</td>\n",
       "      <td>0.343981</td>\n",
       "      <td>0.294453</td>\n",
       "      <td>0.638417</td>\n",
       "      <td>00:20</td>\n",
       "    </tr>\n",
       "    <tr>\n",
       "      <td>9</td>\n",
       "      <td>0.337779</td>\n",
       "      <td>0.288030</td>\n",
       "      <td>0.728279</td>\n",
       "      <td>00:21</td>\n",
       "    </tr>\n",
       "    <tr>\n",
       "      <td>10</td>\n",
       "      <td>0.315193</td>\n",
       "      <td>0.232462</td>\n",
       "      <td>0.781846</td>\n",
       "      <td>00:21</td>\n",
       "    </tr>\n",
       "    <tr>\n",
       "      <td>11</td>\n",
       "      <td>0.303688</td>\n",
       "      <td>0.306530</td>\n",
       "      <td>0.780952</td>\n",
       "      <td>00:21</td>\n",
       "    </tr>\n",
       "    <tr>\n",
       "      <td>12</td>\n",
       "      <td>0.307750</td>\n",
       "      <td>0.272007</td>\n",
       "      <td>0.767705</td>\n",
       "      <td>00:21</td>\n",
       "    </tr>\n",
       "    <tr>\n",
       "      <td>13</td>\n",
       "      <td>0.295211</td>\n",
       "      <td>0.266273</td>\n",
       "      <td>0.651708</td>\n",
       "      <td>00:21</td>\n",
       "    </tr>\n",
       "    <tr>\n",
       "      <td>14</td>\n",
       "      <td>0.295717</td>\n",
       "      <td>0.254500</td>\n",
       "      <td>0.762969</td>\n",
       "      <td>00:21</td>\n",
       "    </tr>\n",
       "    <tr>\n",
       "      <td>15</td>\n",
       "      <td>0.272124</td>\n",
       "      <td>0.257432</td>\n",
       "      <td>0.784201</td>\n",
       "      <td>00:20</td>\n",
       "    </tr>\n",
       "  </tbody>\n",
       "</table>"
      ],
      "text/plain": [
       "<IPython.core.display.HTML object>"
      ]
     },
     "metadata": {},
     "output_type": "display_data"
    },
    {
     "name": "stdout",
     "output_type": "stream",
     "text": [
      "No improvement since epoch 10: early stopping\n"
     ]
    },
    {
     "data": {
      "text/html": [
       "\n",
       "<style>\n",
       "    /* Turns off some styling */\n",
       "    progress {\n",
       "        /* gets rid of default border in Firefox and Opera. */\n",
       "        border: none;\n",
       "        /* Needs to be in here for Safari polyfill so background images work as expected. */\n",
       "        background-size: auto;\n",
       "    }\n",
       "    progress:not([value]), progress:not([value])::-webkit-progress-bar {\n",
       "        background: repeating-linear-gradient(45deg, #7e7e7e, #7e7e7e 10px, #5c5c5c 10px, #5c5c5c 20px);\n",
       "    }\n",
       "    .progress-bar-interrupted, .progress-bar-interrupted::-webkit-progress-bar {\n",
       "        background: #F44336;\n",
       "    }\n",
       "</style>\n"
      ],
      "text/plain": [
       "<IPython.core.display.HTML object>"
      ]
     },
     "metadata": {},
     "output_type": "display_data"
    },
    {
     "data": {
      "text/html": [],
      "text/plain": [
       "<IPython.core.display.HTML object>"
      ]
     },
     "metadata": {},
     "output_type": "display_data"
    },
    {
     "data": {
      "text/html": [
       "\n",
       "<style>\n",
       "    /* Turns off some styling */\n",
       "    progress {\n",
       "        /* gets rid of default border in Firefox and Opera. */\n",
       "        border: none;\n",
       "        /* Needs to be in here for Safari polyfill so background images work as expected. */\n",
       "        background-size: auto;\n",
       "    }\n",
       "    progress:not([value]), progress:not([value])::-webkit-progress-bar {\n",
       "        background: repeating-linear-gradient(45deg, #7e7e7e, #7e7e7e 10px, #5c5c5c 10px, #5c5c5c 20px);\n",
       "    }\n",
       "    .progress-bar-interrupted, .progress-bar-interrupted::-webkit-progress-bar {\n",
       "        background: #F44336;\n",
       "    }\n",
       "</style>\n"
      ],
      "text/plain": [
       "<IPython.core.display.HTML object>"
      ]
     },
     "metadata": {},
     "output_type": "display_data"
    },
    {
     "data": {
      "text/html": [
       "<table border=\"1\" class=\"dataframe\">\n",
       "  <thead>\n",
       "    <tr style=\"text-align: left;\">\n",
       "      <th>epoch</th>\n",
       "      <th>train_loss</th>\n",
       "      <th>valid_loss</th>\n",
       "      <th>dice_multi</th>\n",
       "      <th>time</th>\n",
       "    </tr>\n",
       "  </thead>\n",
       "  <tbody>\n",
       "    <tr>\n",
       "      <td>0</td>\n",
       "      <td>1.072343</td>\n",
       "      <td>0.622461</td>\n",
       "      <td>0.318430</td>\n",
       "      <td>00:21</td>\n",
       "    </tr>\n",
       "    <tr>\n",
       "      <td>1</td>\n",
       "      <td>0.973028</td>\n",
       "      <td>0.674917</td>\n",
       "      <td>0.321626</td>\n",
       "      <td>00:21</td>\n",
       "    </tr>\n",
       "    <tr>\n",
       "      <td>2</td>\n",
       "      <td>0.857847</td>\n",
       "      <td>0.655305</td>\n",
       "      <td>0.367912</td>\n",
       "      <td>00:21</td>\n",
       "    </tr>\n",
       "  </tbody>\n",
       "</table>"
      ],
      "text/plain": [
       "<IPython.core.display.HTML object>"
      ]
     },
     "metadata": {},
     "output_type": "display_data"
    },
    {
     "data": {
      "text/html": [
       "\n",
       "<style>\n",
       "    /* Turns off some styling */\n",
       "    progress {\n",
       "        /* gets rid of default border in Firefox and Opera. */\n",
       "        border: none;\n",
       "        /* Needs to be in here for Safari polyfill so background images work as expected. */\n",
       "        background-size: auto;\n",
       "    }\n",
       "    progress:not([value]), progress:not([value])::-webkit-progress-bar {\n",
       "        background: repeating-linear-gradient(45deg, #7e7e7e, #7e7e7e 10px, #5c5c5c 10px, #5c5c5c 20px);\n",
       "    }\n",
       "    .progress-bar-interrupted, .progress-bar-interrupted::-webkit-progress-bar {\n",
       "        background: #F44336;\n",
       "    }\n",
       "</style>\n"
      ],
      "text/plain": [
       "<IPython.core.display.HTML object>"
      ]
     },
     "metadata": {},
     "output_type": "display_data"
    },
    {
     "data": {
      "text/html": [
       "<table border=\"1\" class=\"dataframe\">\n",
       "  <thead>\n",
       "    <tr style=\"text-align: left;\">\n",
       "      <th>epoch</th>\n",
       "      <th>train_loss</th>\n",
       "      <th>valid_loss</th>\n",
       "      <th>dice_multi</th>\n",
       "      <th>time</th>\n",
       "    </tr>\n",
       "  </thead>\n",
       "  <tbody>\n",
       "    <tr>\n",
       "      <td>0</td>\n",
       "      <td>0.539484</td>\n",
       "      <td>0.431442</td>\n",
       "      <td>0.377437</td>\n",
       "      <td>00:22</td>\n",
       "    </tr>\n",
       "    <tr>\n",
       "      <td>1</td>\n",
       "      <td>0.494425</td>\n",
       "      <td>0.339864</td>\n",
       "      <td>0.359232</td>\n",
       "      <td>00:21</td>\n",
       "    </tr>\n",
       "    <tr>\n",
       "      <td>2</td>\n",
       "      <td>0.466413</td>\n",
       "      <td>0.309828</td>\n",
       "      <td>0.400439</td>\n",
       "      <td>00:22</td>\n",
       "    </tr>\n",
       "    <tr>\n",
       "      <td>3</td>\n",
       "      <td>0.456114</td>\n",
       "      <td>0.383541</td>\n",
       "      <td>0.444263</td>\n",
       "      <td>00:21</td>\n",
       "    </tr>\n",
       "    <tr>\n",
       "      <td>4</td>\n",
       "      <td>0.440310</td>\n",
       "      <td>0.307978</td>\n",
       "      <td>0.541523</td>\n",
       "      <td>00:21</td>\n",
       "    </tr>\n",
       "    <tr>\n",
       "      <td>5</td>\n",
       "      <td>0.427948</td>\n",
       "      <td>0.325629</td>\n",
       "      <td>0.617169</td>\n",
       "      <td>00:21</td>\n",
       "    </tr>\n",
       "    <tr>\n",
       "      <td>6</td>\n",
       "      <td>0.418335</td>\n",
       "      <td>0.345982</td>\n",
       "      <td>0.604994</td>\n",
       "      <td>00:21</td>\n",
       "    </tr>\n",
       "    <tr>\n",
       "      <td>7</td>\n",
       "      <td>0.384947</td>\n",
       "      <td>0.258295</td>\n",
       "      <td>0.750079</td>\n",
       "      <td>00:21</td>\n",
       "    </tr>\n",
       "    <tr>\n",
       "      <td>8</td>\n",
       "      <td>0.373692</td>\n",
       "      <td>0.304502</td>\n",
       "      <td>0.715324</td>\n",
       "      <td>00:21</td>\n",
       "    </tr>\n",
       "    <tr>\n",
       "      <td>9</td>\n",
       "      <td>0.356523</td>\n",
       "      <td>0.271663</td>\n",
       "      <td>0.713591</td>\n",
       "      <td>00:21</td>\n",
       "    </tr>\n",
       "    <tr>\n",
       "      <td>10</td>\n",
       "      <td>0.348787</td>\n",
       "      <td>0.254781</td>\n",
       "      <td>0.789408</td>\n",
       "      <td>00:21</td>\n",
       "    </tr>\n",
       "    <tr>\n",
       "      <td>11</td>\n",
       "      <td>0.344849</td>\n",
       "      <td>0.267045</td>\n",
       "      <td>0.774994</td>\n",
       "      <td>00:21</td>\n",
       "    </tr>\n",
       "    <tr>\n",
       "      <td>12</td>\n",
       "      <td>0.320896</td>\n",
       "      <td>0.264106</td>\n",
       "      <td>0.798145</td>\n",
       "      <td>00:21</td>\n",
       "    </tr>\n",
       "  </tbody>\n",
       "</table>"
      ],
      "text/plain": [
       "<IPython.core.display.HTML object>"
      ]
     },
     "metadata": {},
     "output_type": "display_data"
    },
    {
     "name": "stdout",
     "output_type": "stream",
     "text": [
      "No improvement since epoch 7: early stopping\n"
     ]
    },
    {
     "data": {
      "text/html": [
       "\n",
       "<style>\n",
       "    /* Turns off some styling */\n",
       "    progress {\n",
       "        /* gets rid of default border in Firefox and Opera. */\n",
       "        border: none;\n",
       "        /* Needs to be in here for Safari polyfill so background images work as expected. */\n",
       "        background-size: auto;\n",
       "    }\n",
       "    progress:not([value]), progress:not([value])::-webkit-progress-bar {\n",
       "        background: repeating-linear-gradient(45deg, #7e7e7e, #7e7e7e 10px, #5c5c5c 10px, #5c5c5c 20px);\n",
       "    }\n",
       "    .progress-bar-interrupted, .progress-bar-interrupted::-webkit-progress-bar {\n",
       "        background: #F44336;\n",
       "    }\n",
       "</style>\n"
      ],
      "text/plain": [
       "<IPython.core.display.HTML object>"
      ]
     },
     "metadata": {},
     "output_type": "display_data"
    },
    {
     "data": {
      "text/html": [],
      "text/plain": [
       "<IPython.core.display.HTML object>"
      ]
     },
     "metadata": {},
     "output_type": "display_data"
    },
    {
     "data": {
      "text/html": [
       "\n",
       "<style>\n",
       "    /* Turns off some styling */\n",
       "    progress {\n",
       "        /* gets rid of default border in Firefox and Opera. */\n",
       "        border: none;\n",
       "        /* Needs to be in here for Safari polyfill so background images work as expected. */\n",
       "        background-size: auto;\n",
       "    }\n",
       "    progress:not([value]), progress:not([value])::-webkit-progress-bar {\n",
       "        background: repeating-linear-gradient(45deg, #7e7e7e, #7e7e7e 10px, #5c5c5c 10px, #5c5c5c 20px);\n",
       "    }\n",
       "    .progress-bar-interrupted, .progress-bar-interrupted::-webkit-progress-bar {\n",
       "        background: #F44336;\n",
       "    }\n",
       "</style>\n"
      ],
      "text/plain": [
       "<IPython.core.display.HTML object>"
      ]
     },
     "metadata": {},
     "output_type": "display_data"
    },
    {
     "data": {
      "text/html": [
       "<table border=\"1\" class=\"dataframe\">\n",
       "  <thead>\n",
       "    <tr style=\"text-align: left;\">\n",
       "      <th>epoch</th>\n",
       "      <th>train_loss</th>\n",
       "      <th>valid_loss</th>\n",
       "      <th>dice_multi</th>\n",
       "      <th>time</th>\n",
       "    </tr>\n",
       "  </thead>\n",
       "  <tbody>\n",
       "    <tr>\n",
       "      <td>0</td>\n",
       "      <td>0.874498</td>\n",
       "      <td>0.662273</td>\n",
       "      <td>0.314236</td>\n",
       "      <td>00:21</td>\n",
       "    </tr>\n",
       "    <tr>\n",
       "      <td>1</td>\n",
       "      <td>1.382593</td>\n",
       "      <td>0.978917</td>\n",
       "      <td>0.127097</td>\n",
       "      <td>00:21</td>\n",
       "    </tr>\n",
       "    <tr>\n",
       "      <td>2</td>\n",
       "      <td>1.059802</td>\n",
       "      <td>0.703847</td>\n",
       "      <td>0.329024</td>\n",
       "      <td>00:20</td>\n",
       "    </tr>\n",
       "  </tbody>\n",
       "</table>"
      ],
      "text/plain": [
       "<IPython.core.display.HTML object>"
      ]
     },
     "metadata": {},
     "output_type": "display_data"
    },
    {
     "data": {
      "text/html": [
       "\n",
       "<style>\n",
       "    /* Turns off some styling */\n",
       "    progress {\n",
       "        /* gets rid of default border in Firefox and Opera. */\n",
       "        border: none;\n",
       "        /* Needs to be in here for Safari polyfill so background images work as expected. */\n",
       "        background-size: auto;\n",
       "    }\n",
       "    progress:not([value]), progress:not([value])::-webkit-progress-bar {\n",
       "        background: repeating-linear-gradient(45deg, #7e7e7e, #7e7e7e 10px, #5c5c5c 10px, #5c5c5c 20px);\n",
       "    }\n",
       "    .progress-bar-interrupted, .progress-bar-interrupted::-webkit-progress-bar {\n",
       "        background: #F44336;\n",
       "    }\n",
       "</style>\n"
      ],
      "text/plain": [
       "<IPython.core.display.HTML object>"
      ]
     },
     "metadata": {},
     "output_type": "display_data"
    },
    {
     "data": {
      "text/html": [
       "<table border=\"1\" class=\"dataframe\">\n",
       "  <thead>\n",
       "    <tr style=\"text-align: left;\">\n",
       "      <th>epoch</th>\n",
       "      <th>train_loss</th>\n",
       "      <th>valid_loss</th>\n",
       "      <th>dice_multi</th>\n",
       "      <th>time</th>\n",
       "    </tr>\n",
       "  </thead>\n",
       "  <tbody>\n",
       "    <tr>\n",
       "      <td>0</td>\n",
       "      <td>0.475512</td>\n",
       "      <td>0.406815</td>\n",
       "      <td>0.356349</td>\n",
       "      <td>00:22</td>\n",
       "    </tr>\n",
       "    <tr>\n",
       "      <td>1</td>\n",
       "      <td>0.449566</td>\n",
       "      <td>0.426448</td>\n",
       "      <td>0.356139</td>\n",
       "      <td>00:22</td>\n",
       "    </tr>\n",
       "    <tr>\n",
       "      <td>2</td>\n",
       "      <td>0.415811</td>\n",
       "      <td>0.438826</td>\n",
       "      <td>0.369906</td>\n",
       "      <td>00:21</td>\n",
       "    </tr>\n",
       "    <tr>\n",
       "      <td>3</td>\n",
       "      <td>0.427503</td>\n",
       "      <td>0.374935</td>\n",
       "      <td>0.475911</td>\n",
       "      <td>00:21</td>\n",
       "    </tr>\n",
       "    <tr>\n",
       "      <td>4</td>\n",
       "      <td>0.423531</td>\n",
       "      <td>0.468403</td>\n",
       "      <td>0.425272</td>\n",
       "      <td>00:21</td>\n",
       "    </tr>\n",
       "    <tr>\n",
       "      <td>5</td>\n",
       "      <td>0.420451</td>\n",
       "      <td>0.382500</td>\n",
       "      <td>0.522310</td>\n",
       "      <td>00:21</td>\n",
       "    </tr>\n",
       "    <tr>\n",
       "      <td>6</td>\n",
       "      <td>0.399913</td>\n",
       "      <td>0.456112</td>\n",
       "      <td>0.574442</td>\n",
       "      <td>00:21</td>\n",
       "    </tr>\n",
       "    <tr>\n",
       "      <td>7</td>\n",
       "      <td>0.414007</td>\n",
       "      <td>0.493726</td>\n",
       "      <td>0.496707</td>\n",
       "      <td>00:21</td>\n",
       "    </tr>\n",
       "    <tr>\n",
       "      <td>8</td>\n",
       "      <td>0.380824</td>\n",
       "      <td>0.404847</td>\n",
       "      <td>0.683941</td>\n",
       "      <td>00:21</td>\n",
       "    </tr>\n",
       "  </tbody>\n",
       "</table>"
      ],
      "text/plain": [
       "<IPython.core.display.HTML object>"
      ]
     },
     "metadata": {},
     "output_type": "display_data"
    },
    {
     "name": "stdout",
     "output_type": "stream",
     "text": [
      "No improvement since epoch 3: early stopping\n"
     ]
    },
    {
     "data": {
      "text/html": [
       "\n",
       "<style>\n",
       "    /* Turns off some styling */\n",
       "    progress {\n",
       "        /* gets rid of default border in Firefox and Opera. */\n",
       "        border: none;\n",
       "        /* Needs to be in here for Safari polyfill so background images work as expected. */\n",
       "        background-size: auto;\n",
       "    }\n",
       "    progress:not([value]), progress:not([value])::-webkit-progress-bar {\n",
       "        background: repeating-linear-gradient(45deg, #7e7e7e, #7e7e7e 10px, #5c5c5c 10px, #5c5c5c 20px);\n",
       "    }\n",
       "    .progress-bar-interrupted, .progress-bar-interrupted::-webkit-progress-bar {\n",
       "        background: #F44336;\n",
       "    }\n",
       "</style>\n"
      ],
      "text/plain": [
       "<IPython.core.display.HTML object>"
      ]
     },
     "metadata": {},
     "output_type": "display_data"
    },
    {
     "data": {
      "text/html": [],
      "text/plain": [
       "<IPython.core.display.HTML object>"
      ]
     },
     "metadata": {},
     "output_type": "display_data"
    }
   ],
   "source": [
    "results = {}\n",
    "cmr = CutMixRICAP()\n",
    "learner_hparams[\"cbs\"] = [esc, cmr]\n",
    "r = evaluate(db_hparams,\n",
    "             dls_hparams,\n",
    "             technique,\n",
    "             learner_hparams,\n",
    "             learning_hparams,\n",
    "             learning_mode\n",
    "            )\n",
    "results.update({\n",
    "    \"CutMixRICAP\": r[\"DiceMulti\"]\n",
    "})"
   ]
  },
  {
   "cell_type": "markdown",
   "id": "1c4615d6-e095-4d5b-8049-d94586232b10",
   "metadata": {},
   "source": [
    "And plot the results."
   ]
  },
  {
   "cell_type": "code",
<<<<<<< HEAD
   "execution_count": 8,
=======
   "execution_count": null,
>>>>>>> 4e7472c300958dffc538dd7f1aa83bd459ad2886
   "id": "2655d011-86b2-4f0c-a972-adede94188ca",
   "metadata": {},
   "outputs": [
    {
     "data": {
      "text/html": [
       "<div>\n",
       "<style scoped>\n",
       "    .dataframe tbody tr th:only-of-type {\n",
       "        vertical-align: middle;\n",
       "    }\n",
       "\n",
       "    .dataframe tbody tr th {\n",
       "        vertical-align: top;\n",
       "    }\n",
       "\n",
       "    .dataframe thead th {\n",
       "        text-align: right;\n",
       "    }\n",
       "</style>\n",
       "<table border=\"1\" class=\"dataframe\">\n",
       "  <thead>\n",
       "    <tr style=\"text-align: right;\">\n",
       "      <th></th>\n",
       "      <th>CutMixRICAP</th>\n",
       "    </tr>\n",
       "  </thead>\n",
       "  <tbody>\n",
       "    <tr>\n",
       "      <th>0</th>\n",
       "      <td>0.725927</td>\n",
       "    </tr>\n",
       "    <tr>\n",
       "      <th>1</th>\n",
       "      <td>0.811130</td>\n",
       "    </tr>\n",
       "    <tr>\n",
       "      <th>2</th>\n",
       "      <td>0.838442</td>\n",
       "    </tr>\n",
       "    <tr>\n",
       "      <th>3</th>\n",
       "      <td>0.811839</td>\n",
       "    </tr>\n",
       "    <tr>\n",
       "      <th>4</th>\n",
       "      <td>0.662695</td>\n",
       "    </tr>\n",
       "  </tbody>\n",
       "</table>\n",
       "</div>"
      ],
      "text/plain": [
       "   CutMixRICAP\n",
       "0     0.725927\n",
       "1     0.811130\n",
       "2     0.838442\n",
       "3     0.811839\n",
       "4     0.662695"
      ]
     },
<<<<<<< HEAD
     "execution_count": 8,
=======
     "execution_count": null,
>>>>>>> 4e7472c300958dffc538dd7f1aa83bd459ad2886
     "metadata": {},
     "output_type": "execute_result"
    }
   ],
   "source": [
    "df = pd.DataFrame(results)\n",
    "df"
   ]
  },
  {
   "cell_type": "code",
<<<<<<< HEAD
   "execution_count": 9,
=======
   "execution_count": null,
>>>>>>> 4e7472c300958dffc538dd7f1aa83bd459ad2886
   "id": "146564d1-d99a-4ea2-b94e-00d5273bbde5",
   "metadata": {},
   "outputs": [
    {
     "data": {
      "image/png": "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\n",
      "text/plain": [
       "<Figure size 640x480 with 1 Axes>"
      ]
     },
     "metadata": {},
     "output_type": "display_data"
    }
   ],
   "source": [
    "plt.boxplot(df[df.columns]);\n",
    "plt.plot([i for i in range(1, len(df.columns) + 1)], df.describe().transpose()[\"std\"]);"
   ]
  },
  {
   "cell_type": "markdown",
   "id": "f6bce01f-21ae-4386-b8a0-da19e1117093",
   "metadata": {},
   "source": [
    "We will show its mean and standar deviation too."
   ]
  },
  {
   "cell_type": "code",
<<<<<<< HEAD
   "execution_count": 10,
=======
   "execution_count": null,
>>>>>>> 4e7472c300958dffc538dd7f1aa83bd459ad2886
   "id": "a1ca18e8-e6c1-4221-8489-4e173b30bac3",
   "metadata": {},
   "outputs": [
    {
     "data": {
      "text/html": [
       "<div>\n",
       "<style scoped>\n",
       "    .dataframe tbody tr th:only-of-type {\n",
       "        vertical-align: middle;\n",
       "    }\n",
       "\n",
       "    .dataframe tbody tr th {\n",
       "        vertical-align: top;\n",
       "    }\n",
       "\n",
       "    .dataframe thead th {\n",
       "        text-align: right;\n",
       "    }\n",
       "</style>\n",
       "<table border=\"1\" class=\"dataframe\">\n",
       "  <thead>\n",
       "    <tr style=\"text-align: right;\">\n",
       "      <th></th>\n",
       "      <th>mean</th>\n",
       "      <th>std</th>\n",
       "    </tr>\n",
       "  </thead>\n",
       "  <tbody>\n",
       "    <tr>\n",
       "      <th>CutMixRICAP</th>\n",
       "      <td>0.770007</td>\n",
       "      <td>0.073456</td>\n",
       "    </tr>\n",
       "  </tbody>\n",
       "</table>\n",
       "</div>"
      ],
      "text/plain": [
       "                 mean       std\n",
       "CutMixRICAP  0.770007  0.073456"
      ]
     },
<<<<<<< HEAD
     "execution_count": 10,
=======
     "execution_count": null,
>>>>>>> 4e7472c300958dffc538dd7f1aa83bd459ad2886
     "metadata": {},
     "output_type": "execute_result"
    }
   ],
   "source": [
    "df.describe().transpose()[[\"mean\", \"std\"]]"
   ]
  }
 ],
 "metadata": {
  "kernelspec": {
   "display_name": "Python [conda env:.conda-visionmodelsevaluation]",
   "language": "python",
   "name": "conda-env-.conda-visionmodelsevaluation-py"
  }
 },
 "nbformat": 4,
 "nbformat_minor": 5
}
