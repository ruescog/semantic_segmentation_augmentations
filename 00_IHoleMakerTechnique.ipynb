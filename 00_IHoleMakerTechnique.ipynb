{
 "cells": [
  {
   "cell_type": "markdown",
   "metadata": {},
   "source": [
    "# HoleMakerTechnique\n",
    "\n",
    "> The `HoleMakerTechnique` components define how to select the region to be replaced."
   ]
  },
  {
   "cell_type": "code",
   "execution_count": null,
   "metadata": {},
   "outputs": [],
   "source": [
    "#| default_exp iholemakertechnique"
   ]
  },
  {
   "cell_type": "code",
   "execution_count": null,
   "metadata": {},
   "outputs": [],
   "source": [
    "#| export\n",
    "import numpy as np"
   ]
  },
  {
   "cell_type": "code",
   "execution_count": null,
   "metadata": {},
   "outputs": [],
   "source": [
    "#| hide\n",
    "from nbdev.showdoc import *\n",
    "from fastcore.utils import *"
   ]
  },
  {
   "cell_type": "markdown",
   "metadata": {},
   "source": [
    "This is an abstract class that can not be used directly. In order to use it, it is necessary to use its inherited classes."
   ]
  },
  {
   "cell_type": "code",
   "execution_count": null,
   "metadata": {},
   "outputs": [],
   "source": [
    "#| export\n",
    "class HoleMakerTechnique():\n",
    "    def __init__(self,\n",
    "                 hole_size: tuple = (100, 100)): # The size of the hole in a tuple like (y, x).\n",
    "        \"Defines the size of the hole.\"\n",
    "        self.hole_size = hole_size\n",
    "        \n",
    "    def get_hole(self,\n",
    "             mask: np.ndarray): # The mask associated with the image where the hole is going to be made.\n",
    "        \"Defines how to make the hole.\"\n",
    "        raise NotImplementedError(\"You can not use this abtract class to make a hole.\")"
   ]
  },
  {
   "cell_type": "code",
   "execution_count": null,
   "metadata": {},
   "outputs": [
    {
     "data": {
      "text/markdown": [
       "---\n",
       "\n",
       "### HoleMakerTechnique.get_hole\n",
       "\n",
       ">      HoleMakerTechnique.get_hole (mask:numpy.ndarray)\n",
       "\n",
       "Defines how to make the hole.\n",
       "\n",
       "|    | **Type** | **Details** |\n",
       "| -- | -------- | ----------- |\n",
       "| mask | ndarray | The mask associated with the image where the hole is going to be made. |"
      ],
      "text/plain": [
       "---\n",
       "\n",
       "### HoleMakerTechnique.get_hole\n",
       "\n",
       ">      HoleMakerTechnique.get_hole (mask:numpy.ndarray)\n",
       "\n",
       "Defines how to make the hole.\n",
       "\n",
       "|    | **Type** | **Details** |\n",
       "| -- | -------- | ----------- |\n",
       "| mask | ndarray | The mask associated with the image where the hole is going to be made. |"
      ]
     },
     "execution_count": null,
     "metadata": {},
     "output_type": "execute_result"
    }
   ],
   "source": [
    "show_doc(HoleMakerTechnique.get_hole)"
   ]
  },
  {
   "cell_type": "code",
   "execution_count": null,
   "metadata": {},
   "outputs": [],
   "source": [
    "#| hide\n",
    "import nbdev\n",
    "nbdev.nbdev_export()"
   ]
  }
 ],
 "metadata": {
  "kernelspec": {
   "display_name": "Python 3 (ipykernel)",
   "language": "python",
   "name": "python3"
  }
 },
 "nbformat": 4,
 "nbformat_minor": 4
}
